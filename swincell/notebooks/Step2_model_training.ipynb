{
  "cells": [
    {
      "cell_type": "markdown",
      "metadata": {
        "colab_type": "text",
        "id": "view-in-github"
      },
      "source": [
        "<a href=\"https://colab.research.google.com/github/MouseLand/cellpose/blob/master/notebooks/run_cellpose_GPU.ipynb\" target=\"_parent\"><img src=\"https://colab.research.google.com/assets/colab-badge.svg\" alt=\"Open In Colab\"/></a>"
      ]
    },
    {
      "attachments": {},
      "cell_type": "markdown",
      "metadata": {
        "id": "Q7c7V4yEqDc_"
      },
      "source": [
        "# Step 2: model training"
      ]
    },
    {
      "cell_type": "code",
      "execution_count": 6,
      "metadata": {},
      "outputs": [],
      "source": [
        "from cellpose_dynamics import compute_masks\n",
        "import tifffile\n",
        "import numpy as np\n",
        "# from cellpose.dynamics import masks_to_flows_gpu, masks_to_flows\n",
        "\n",
        "import time, os, sys\n",
        "from urllib.parse import urlparse\n",
        "import skimage.io\n",
        "import matplotlib.pyplot as plt\n",
        "import matplotlib as mpl\n",
        "%matplotlib inline\n",
        "mpl.rcParams['figure.dpi'] = 300\n",
        "\n",
        "from urllib.parse import urlparse\n",
        "\n",
        "\n",
        "\n",
        "# a = "
      ]
    },
    {
      "cell_type": "code",
      "execution_count": 2,
      "metadata": {},
      "outputs": [
        {
          "name": "stdout",
          "output_type": "stream",
          "text": [
            "nvcc: NVIDIA (R) Cuda compiler driver\n",
            "Copyright (c) 2005-2015 NVIDIA Corporation\n",
            "Built on Tue_Aug_11_14:27:32_CDT_2015\n",
            "Cuda compilation tools, release 7.5, V7.5.17\n",
            "Fri Apr  7 12:38:34 2023       \n",
            "+-----------------------------------------------------------------------------+\n",
            "| NVIDIA-SMI 525.89.02    Driver Version: 525.89.02    CUDA Version: 12.0     |\n",
            "|-------------------------------+----------------------+----------------------+\n",
            "| GPU  Name        Persistence-M| Bus-Id        Disp.A | Volatile Uncorr. ECC |\n",
            "| Fan  Temp  Perf  Pwr:Usage/Cap|         Memory-Usage | GPU-Util  Compute M. |\n",
            "|                               |                      |               MIG M. |\n",
            "|===============================+======================+======================|\n",
            "|   0  NVIDIA GeForce ...  Off  | 00000000:01:00.0  On |                  N/A |\n",
            "|  0%   53C    P5    39W / 350W |  13293MiB / 24576MiB |     35%      Default |\n",
            "|                               |                      |                  N/A |\n",
            "+-------------------------------+----------------------+----------------------+\n",
            "|   1  NVIDIA GeForce ...  Off  | 00000000:21:00.0 Off |                  N/A |\n",
            "|  0%   47C    P8    20W / 350W |      3MiB / 24576MiB |      0%      Default |\n",
            "|                               |                      |                  N/A |\n",
            "+-------------------------------+----------------------+----------------------+\n",
            "                                                                               \n",
            "+-----------------------------------------------------------------------------+\n",
            "| Processes:                                                                  |\n",
            "|  GPU   GI   CI        PID   Type   Process name                  GPU Memory |\n",
            "|        ID   ID                                                   Usage      |\n",
            "|=============================================================================|\n",
            "|    0   N/A  N/A      4022      G   /usr/bin/X                        570MiB |\n",
            "|    0   N/A  N/A      5624      G   /usr/bin/gnome-shell              142MiB |\n",
            "|    0   N/A  N/A      6630      G   /usr/lib64/firefox/firefox        303MiB |\n",
            "|    0   N/A  N/A      7574      G   ...RendererForSitePerProcess      165MiB |\n",
            "|    0   N/A  N/A     14660      C   ...hang/anaconda3/bin/python    11994MiB |\n",
            "|    0   N/A  N/A     24897      G   ...096881846593237834,131072      108MiB |\n",
            "+-----------------------------------------------------------------------------+\n"
          ]
        }
      ],
      "source": [
        "!nvcc --version\n",
        "!nvidia-smi"
      ]
    },
    {
      "cell_type": "code",
      "execution_count": 1,
      "metadata": {},
      "outputs": [
        {
          "name": "stdout",
          "output_type": "stream",
          "text": [
            "Found total gpus 2\n",
            "folder loader cellpose tifffolder loader cellpose tiff\n",
            "\n",
            "88  8 2 2 a\n",
            "8 2 2 a\n",
            "Loading dataset: 100%|████████████████████████████| 8/8 [00:06<00:00,  1.25it/s]\n",
            "1  gpu 1\n",
            "Loading dataset: 100%|████████████████████████████| 8/8 [00:06<00:00,  1.25it/s]\n",
            "0  gpu 0\n",
            "Batch size is: 1 epochs 5000\n",
            "Total parameters count 62186806\n",
            "Total parameters count 62186806\n",
            "Writing Tensorboard logs to  ./runs/Nanolive_mem_cellpose_128_128_32_notused/foldNone\n",
            "0 Fri Apr  7 12:34:28 20231 Epoch: 0 \n",
            "Fri Apr  7 12:34:28 2023 Epoch: 0\n",
            "Traceback (most recent call last):\n",
            "  File \"/home/xzhang/Projects/cellpose/finetune_main_cellpose.py\", line 274, in <module>\n",
            "    main()\n",
            "  File \"/home/xzhang/Projects/cellpose/finetune_main_cellpose.py\", line 112, in main\n",
            "    mp.spawn(main_worker, nprocs=args.ngpus_per_node, args=(args,))\n",
            "  File \"/home/xzhang/anaconda3/envs/monai/lib/python3.9/site-packages/torch/multiprocessing/spawn.py\", line 240, in spawn\n",
            "    return start_processes(fn, args, nprocs, join, daemon, start_method='spawn')\n",
            "  File \"/home/xzhang/anaconda3/envs/monai/lib/python3.9/site-packages/torch/multiprocessing/spawn.py\", line 198, in start_processes\n",
            "    while not context.join():\n",
            "  File \"/home/xzhang/anaconda3/envs/monai/lib/python3.9/site-packages/torch/multiprocessing/spawn.py\", line 140, in join\n",
            "    raise ProcessExitedException(\n",
            "torch.multiprocessing.spawn.ProcessExitedException: process 0 terminated with signal SIGABRT\n"
          ]
        }
      ],
      "source": [
        "!python finetune_main_cellpose.py --json_list='' --data_dir='/home/xzhang/Projects/cellpose/Nanolive_mem_cellpose_data' --val_every=20 --noamp --distributed \\\n",
        " --pretrained_model_name '/home/xzhang/Projects/cellpose/pretrained_models/cellpose_model_nor_v1.pt' --a_min=21000 --a_max=31000 --logdir Nanolive_mem_cellpose_128_128_32_notused --max_epochs 5000 \\\n",
        "--roi_x=128 --roi_y=128 --roi_z=32  --in_channels=1 --out_channels=4 --spatial_dims=3 --use_checkpoint --feature_size=48 --save_checkpoint --cellpose \\"
      ]
    },
    {
      "cell_type": "markdown",
      "metadata": {
        "id": "e2cBEO1PLuO7"
      },
      "source": [
        "Check CUDA version and GPU"
      ]
    },
    {
      "cell_type": "markdown",
      "metadata": {
        "id": "h_iAN7cAthma"
      },
      "source": [
        "import libraries and check GPU (the first time you import cellpose the models will download)."
      ]
    }
  ],
  "metadata": {
    "accelerator": "GPU",
    "colab": {
      "collapsed_sections": [],
      "include_colab_link": true,
      "name": "run_cellpose_GPU.ipynb",
      "provenance": []
    },
    "kernelspec": {
      "display_name": "Python 3.9.7 ('base')",
      "language": "python",
      "name": "python3"
    },
    "language_info": {
      "codemirror_mode": {
        "name": "ipython",
        "version": 3
      },
      "file_extension": ".py",
      "mimetype": "text/x-python",
      "name": "python",
      "nbconvert_exporter": "python",
      "pygments_lexer": "ipython3",
      "version": "3.9.12"
    },
    "vscode": {
      "interpreter": {
        "hash": "5622f79b138b3d06c87c9625518e7908c22115a5b982864a5925689bdaf943b1"
      }
    }
  },
  "nbformat": 4,
  "nbformat_minor": 0
}
