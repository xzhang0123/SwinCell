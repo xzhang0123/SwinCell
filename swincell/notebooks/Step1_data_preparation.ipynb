{
  "cells": [
    {
      "cell_type": "markdown",
      "metadata": {
        "colab_type": "text",
        "id": "view-in-github"
      },
      "source": [
        "<a href=\"https://colab.research.google.com/github/MouseLand/cellpose/blob/master/notebooks/run_cellpose_GPU.ipynb\" target=\"_parent\"><img src=\"https://colab.research.google.com/assets/colab-badge.svg\" alt=\"Open In Colab\"/></a>"
      ]
    },
    {
      "attachments": {},
      "cell_type": "markdown",
      "metadata": {
        "id": "Q7c7V4yEqDc_"
      },
      "source": [
        "# Step 1: data preperation\n",
        "\n",
        "#### Flow generation is notably quicker when utilizing instance masks instead of semantic masks. Therefore, it is recommended to convert semantic masks into instance masks prior to initiating model training."
      ]
    },
    {
      "cell_type": "code",
      "execution_count": 5,
      "metadata": {},
      "outputs": [],
      "source": [
        "\n",
        "import tifffile\n",
        "import numpy as np\n",
        "import glob\n",
        "import matplotlib.pyplot as plt\n",
        "import matplotlib as mpl\n",
        "%matplotlib inline\n",
        "mpl.rcParams['figure.dpi'] = 300\n",
        "from swincell.utils.utils import normalize_image_percentile\n",
        "\n"
      ]
    },
    {
      "attachments": {},
      "cell_type": "markdown",
      "metadata": {},
      "source": [
        "#  normalize input image"
      ]
    },
    {
      "cell_type": "code",
      "execution_count": 7,
      "metadata": {},
      "outputs": [
        {
          "name": "stdout",
          "output_type": "stream",
          "text": [
            "5\n",
            "image-final_0001\n",
            "image-final_0003\n",
            "image-final_0002\n",
            "image-final_0004\n",
            "image-final_0000\n"
          ]
        }
      ],
      "source": [
        "# image normalization \n",
        "root_folder = '../../colon_dataset/colon_16bit_demo/'\n",
        "image_input_path = root_folder+'images/*.tif'\n",
        "image_output_path = root_folder+'images_normalized/'\n",
        "\n",
        "image_paths = glob.glob(image_input_path)\n",
        "print('Number of images',len(image_paths))\n",
        "# for i in range(len(image_paths)):\n",
        "for i in image_paths:\n",
        "\n",
        "    filename =i.split('/')[-1].split('.')[0]\n",
        "    print(filename)\n",
        "    image = tifffile.imread(i)\n",
        "    image_nor = normalize_image_percentile(image, lower=1,upper=99)\n",
        "    image_nor = np.clip(image_nor, 0, 1)\n",
        "    tifffile.imwrite(image_output_path+filename+'.tiff', np.uint8(255*image_nor))\n",
        "    # break\n"
      ]
    },
    {
      "attachments": {},
      "cell_type": "markdown",
      "metadata": {},
      "source": [
        "# make flow images"
      ]
    },
    {
      "cell_type": "code",
      "execution_count": 2,
      "metadata": {},
      "outputs": [],
      "source": [
        "# root_folder = '../../colon_dataset/colon_16bit_demo/'\n",
        "mask_input_path = root_folder+'/labels/*.tif'\n",
        "flow_output_path = root_folder+'masks_with_flows/'\n",
        "\n"
      ]
    },
    {
      "cell_type": "code",
      "execution_count": 4,
      "metadata": {},
      "outputs": [
        {
          "name": "stdout",
          "output_type": "stream",
          "text": [
            "['../../colon_dataset/colon_16bit_demo//labels/image-labels_0004.tif', '../../colon_dataset/colon_16bit_demo//labels/image-labels_0003.tif', '../../colon_dataset/colon_16bit_demo//labels/image-labels_0000.tif', '../../colon_dataset/colon_16bit_demo//labels/image-labels_0002.tif', '../../colon_dataset/colon_16bit_demo//labels/image-labels_0001.tif']\n"
          ]
        },
        {
          "ename": "SystemError",
          "evalue": "CPUDispatcher(<function _extend_centers at 0x7f947f95e5f0>) returned a result with an exception set",
          "output_type": "error",
          "traceback": [
            "\u001b[0;31m---------------------------------------------------------------------------\u001b[0m",
            "\u001b[0;31mKeyboardInterrupt\u001b[0m                         Traceback (most recent call last)",
            "File \u001b[0;32m~/anaconda3/envs/swincell/lib/python3.10/site-packages/numba/core/serialize.py:30\u001b[0m, in \u001b[0;36m_numba_unpickle\u001b[0;34m(address, bytedata, hashed)\u001b[0m\n\u001b[1;32m     27\u001b[0m _unpickled_memo \u001b[39m=\u001b[39m {}\n\u001b[0;32m---> 30\u001b[0m \u001b[39mdef\u001b[39;00m \u001b[39m_numba_unpickle\u001b[39m(address, bytedata, hashed):\n\u001b[1;32m     31\u001b[0m \u001b[39m    \u001b[39m\u001b[39m\"\"\"Used by `numba_unpickle` from _helperlib.c\u001b[39;00m\n\u001b[1;32m     32\u001b[0m \n\u001b[1;32m     33\u001b[0m \u001b[39m    Parameters\u001b[39;00m\n\u001b[0;32m   (...)\u001b[0m\n\u001b[1;32m     42\u001b[0m \u001b[39m        unpickled object\u001b[39;00m\n\u001b[1;32m     43\u001b[0m \u001b[39m    \"\"\"\u001b[39;00m\n",
            "\u001b[0;31mKeyboardInterrupt\u001b[0m: ",
            "\nThe above exception was the direct cause of the following exception:\n",
            "\u001b[0;31mSystemError\u001b[0m                               Traceback (most recent call last)",
            "Cell \u001b[0;32mIn[4], line 5\u001b[0m\n\u001b[1;32m      2\u001b[0m \u001b[39mfrom\u001b[39;00m \u001b[39mswincell\u001b[39;00m\u001b[39m.\u001b[39;00m\u001b[39mcellpose_dynamics\u001b[39;00m \u001b[39mimport\u001b[39;00m batch_masks_to_flows\n\u001b[1;32m      3\u001b[0m \u001b[39m#1. orginal mask\u001b[39;00m\n\u001b[0;32m----> 5\u001b[0m batch_masks_to_flows(mask_input_path,flow_output_path,delete_edges\u001b[39m=\u001b[39;49m\u001b[39mFalse\u001b[39;49;00m, binary2sequential\u001b[39m=\u001b[39;49m\u001b[39mTrue\u001b[39;49;00m)\n",
            "File \u001b[0;32m/data/programs/swincell_root/swincell/cellpose_dynamics.py:51\u001b[0m, in \u001b[0;36mbatch_masks_to_flows\u001b[0;34m(input_path, output_path, delete_edges, binary2sequential)\u001b[0m\n\u001b[1;32m     48\u001b[0m output_image  \u001b[39m=\u001b[39m np\u001b[39m.\u001b[39mzeros((\u001b[39m4\u001b[39m,)\u001b[39m+\u001b[39mmask\u001b[39m.\u001b[39mshape,dtype\u001b[39m=\u001b[39m\u001b[39mfloat\u001b[39m)\n\u001b[1;32m     49\u001b[0m output_file_name \u001b[39m=\u001b[39m file\u001b[39m.\u001b[39msplit(\u001b[39m'\u001b[39m\u001b[39m/\u001b[39m\u001b[39m'\u001b[39m)[\u001b[39m-\u001b[39m\u001b[39m1\u001b[39m]\u001b[39m.\u001b[39msplit(\u001b[39m'\u001b[39m\u001b[39m.\u001b[39m\u001b[39m'\u001b[39m)[\u001b[39m0\u001b[39m]\u001b[39m+\u001b[39m\u001b[39m'\u001b[39m\u001b[39m_mask_with_flow.tiff\u001b[39m\u001b[39m'\u001b[39m\n\u001b[0;32m---> 51\u001b[0m flows \u001b[39m=\u001b[39m masks_to_flows(mask)\n\u001b[1;32m     52\u001b[0m \u001b[39m# print(flows.max(),flows.min())\u001b[39;00m\n\u001b[1;32m     53\u001b[0m flows \u001b[39m=\u001b[39m normalize_to_uint8(flows)\n",
            "File \u001b[0;32m/data/programs/swincell_root/swincell/cellpose_dynamics.py:366\u001b[0m, in \u001b[0;36mmasks_to_flows\u001b[0;34m(masks, use_gpu, device)\u001b[0m\n\u001b[1;32m    364\u001b[0m mu \u001b[39m=\u001b[39m np\u001b[39m.\u001b[39mzeros((\u001b[39m3\u001b[39m, Lz, Ly, Lx), np\u001b[39m.\u001b[39mfloat32)\n\u001b[1;32m    365\u001b[0m \u001b[39mfor\u001b[39;00m z \u001b[39min\u001b[39;00m \u001b[39mrange\u001b[39m(Lz):\n\u001b[0;32m--> 366\u001b[0m     mu0 \u001b[39m=\u001b[39m masks_to_flows_device(masks[z], device\u001b[39m=\u001b[39;49mdevice)[\u001b[39m0\u001b[39m]\n\u001b[1;32m    367\u001b[0m     mu[[\u001b[39m1\u001b[39m,\u001b[39m2\u001b[39m], z] \u001b[39m+\u001b[39m\u001b[39m=\u001b[39m mu0\n\u001b[1;32m    368\u001b[0m \u001b[39mfor\u001b[39;00m y \u001b[39min\u001b[39;00m \u001b[39mrange\u001b[39m(Ly):\n",
            "File \u001b[0;32m/data/programs/swincell_root/swincell/cellpose_dynamics.py:311\u001b[0m, in \u001b[0;36mmasks_to_flows_cpu\u001b[0;34m(masks, device)\u001b[0m\n\u001b[1;32m    309\u001b[0m niter \u001b[39m=\u001b[39m \u001b[39m2\u001b[39m\u001b[39m*\u001b[39mnp\u001b[39m.\u001b[39mint32(np\u001b[39m.\u001b[39mptp(x) \u001b[39m+\u001b[39m np\u001b[39m.\u001b[39mptp(y))\n\u001b[1;32m    310\u001b[0m T \u001b[39m=\u001b[39m np\u001b[39m.\u001b[39mzeros((ly\u001b[39m+\u001b[39m\u001b[39m2\u001b[39m)\u001b[39m*\u001b[39m(lx\u001b[39m+\u001b[39m\u001b[39m2\u001b[39m), np\u001b[39m.\u001b[39mfloat64)\n\u001b[0;32m--> 311\u001b[0m T \u001b[39m=\u001b[39m _extend_centers(T, y, x, ymed, xmed, np\u001b[39m.\u001b[39;49mint32(lx), np\u001b[39m.\u001b[39;49mint32(niter))\n\u001b[1;32m    312\u001b[0m T[(y\u001b[39m+\u001b[39m\u001b[39m1\u001b[39m)\u001b[39m*\u001b[39mlx \u001b[39m+\u001b[39m x\u001b[39m+\u001b[39m\u001b[39m1\u001b[39m] \u001b[39m=\u001b[39m np\u001b[39m.\u001b[39mlog(\u001b[39m1.\u001b[39m\u001b[39m+\u001b[39mT[(y\u001b[39m+\u001b[39m\u001b[39m1\u001b[39m)\u001b[39m*\u001b[39mlx \u001b[39m+\u001b[39m x\u001b[39m+\u001b[39m\u001b[39m1\u001b[39m])\n\u001b[1;32m    314\u001b[0m dy \u001b[39m=\u001b[39m T[(y\u001b[39m+\u001b[39m\u001b[39m1\u001b[39m)\u001b[39m*\u001b[39mlx \u001b[39m+\u001b[39m x] \u001b[39m-\u001b[39m T[(y\u001b[39m-\u001b[39m\u001b[39m1\u001b[39m)\u001b[39m*\u001b[39mlx \u001b[39m+\u001b[39m x]\n",
            "\u001b[0;31mSystemError\u001b[0m: CPUDispatcher(<function _extend_centers at 0x7f947f95e5f0>) returned a result with an exception set"
          ]
        }
      ],
      "source": [
        "# convert mask <------>flow <---> mask\n",
        "from swincell.cellpose_dynamics import batch_masks_to_flows\n",
        "#1. orginal mask\n",
        "\n",
        "batch_masks_to_flows(mask_input_path,flow_output_path,delete_edges=False, binary2sequential=True)\n"
      ]
    },
    {
      "attachments": {},
      "cell_type": "markdown",
      "metadata": {},
      "source": [
        "# results visualization"
      ]
    }
  ],
  "metadata": {
    "accelerator": "GPU",
    "colab": {
      "collapsed_sections": [],
      "include_colab_link": true,
      "name": "run_cellpose_GPU.ipynb",
      "provenance": []
    },
    "kernelspec": {
      "display_name": "swincell",
      "language": "python",
      "name": "swincell"
    },
    "language_info": {
      "codemirror_mode": {
        "name": "ipython",
        "version": 3
      },
      "file_extension": ".py",
      "mimetype": "text/x-python",
      "name": "python",
      "nbconvert_exporter": "python",
      "pygments_lexer": "ipython3",
      "version": "3.10.13"
    },
    "vscode": {
      "interpreter": {
        "hash": "5622f79b138b3d06c87c9625518e7908c22115a5b982864a5925689bdaf943b1"
      }
    }
  },
  "nbformat": 4,
  "nbformat_minor": 0
}
