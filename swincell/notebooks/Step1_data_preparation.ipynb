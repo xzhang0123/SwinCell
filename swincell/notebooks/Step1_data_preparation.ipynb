{
  "cells": [
    {
      "cell_type": "markdown",
      "metadata": {
        "colab_type": "text",
        "id": "view-in-github"
      },
      "source": [
        "<a href=\"https://colab.research.google.com/github/MouseLand/cellpose/blob/master/notebooks/run_cellpose_GPU.ipynb\" target=\"_parent\"><img src=\"https://colab.research.google.com/assets/colab-badge.svg\" alt=\"Open In Colab\"/></a>"
      ]
    },
    {
      "attachments": {},
      "cell_type": "markdown",
      "metadata": {
        "id": "Q7c7V4yEqDc_"
      },
      "source": [
        "# Step 1: data preperation"
      ]
    },
    {
      "cell_type": "code",
      "execution_count": 2,
      "metadata": {},
      "outputs": [],
      "source": [
        "import sys\n",
        "sys.path.append('..')"
      ]
    },
    {
      "cell_type": "code",
      "execution_count": 3,
      "metadata": {},
      "outputs": [],
      "source": [
        "from cellpose_dynamics import compute_masks\n",
        "import tifffile\n",
        "import numpy as np\n",
        "# from cellpose.dynamics import masks_to_flows_gpu, masks_to_flows\n",
        "import glob\n",
        "import time, os, sys\n",
        "from urllib.parse import urlparse\n",
        "import skimage.io\n",
        "import matplotlib.pyplot as plt\n",
        "import matplotlib as mpl\n",
        "%matplotlib inline\n",
        "mpl.rcParams['figure.dpi'] = 300\n",
        "\n",
        "from urllib.parse import urlparse\n",
        "from swincell.utils.utils import normalize99\n",
        "\n",
        "\n",
        "# a = "
      ]
    },
    {
      "cell_type": "code",
      "execution_count": null,
      "metadata": {},
      "outputs": [],
      "source": []
    },
    {
      "attachments": {},
      "cell_type": "markdown",
      "metadata": {},
      "source": [
        "# normalize input image"
      ]
    },
    {
      "cell_type": "code",
      "execution_count": 2,
      "metadata": {},
      "outputs": [],
      "source": []
    },
    {
      "cell_type": "code",
      "execution_count": 6,
      "metadata": {},
      "outputs": [
        {
          "name": "stdout",
          "output_type": "stream",
          "text": [
            "100\n",
            "50uM_ZnCl_pH=7_RI_frame113\n",
            "50uM_ZnCl_pH=7_RI_frame108\n",
            "50uM_ZnCl_pH=7_RI_frame136\n",
            "50uM_ZnCl_pH=7_RI_frame194\n",
            "50uM_ZnCl_pH=7_RI_frame189\n",
            "50uM_ZnCl_pH=7_RI_frame129\n",
            "50uM_ZnCl_pH=7_RI_frame156\n",
            "50uM_ZnCl_pH=7_RI_frame145\n",
            "50uM_ZnCl_pH=7_RI_frame114\n",
            "50uM_ZnCl_pH=7_RI_frame134\n",
            "50uM_ZnCl_pH=7_RI_frame193\n",
            "50uM_ZnCl_pH=7_RI_frame160\n",
            "50uM_ZnCl_pH=7_RI_frame109\n",
            "50uM_ZnCl_pH=7_RI_frame169\n",
            "50uM_ZnCl_pH=7_RI_frame177\n",
            "50uM_ZnCl_pH=7_RI_frame168\n",
            "50uM_ZnCl_pH=7_RI_frame192\n",
            "50uM_ZnCl_pH=7_RI_frame183\n",
            "50uM_ZnCl_pH=7_RI_frame111\n",
            "50uM_ZnCl_pH=7_RI_frame130\n",
            "50uM_ZnCl_pH=7_RI_frame101\n",
            "50uM_ZnCl_pH=7_RI_frame143\n",
            "50uM_ZnCl_pH=7_RI_frame167\n",
            "50uM_ZnCl_pH=7_RI_frame150\n",
            "50uM_ZnCl_pH=7_RI_frame181\n",
            "50uM_ZnCl_pH=7_RI_frame138\n",
            "50uM_ZnCl_pH=7_RI_frame190\n",
            "50uM_ZnCl_pH=7_RI_frame122\n",
            "50uM_ZnCl_pH=7_RI_frame172\n",
            "50uM_ZnCl_pH=7_RI_frame137\n",
            "50uM_ZnCl_pH=7_RI_frame135\n",
            "50uM_ZnCl_pH=7_RI_frame165\n",
            "50uM_ZnCl_pH=7_RI_frame121\n",
            "50uM_ZnCl_pH=7_RI_frame110\n",
            "50uM_ZnCl_pH=7_RI_frame162\n",
            "50uM_ZnCl_pH=7_RI_frame117\n",
            "50uM_ZnCl_pH=7_RI_frame120\n",
            "50uM_ZnCl_pH=7_RI_frame147\n",
            "50uM_ZnCl_pH=7_RI_frame103\n",
            "50uM_ZnCl_pH=7_RI_frame179\n",
            "50uM_ZnCl_pH=7_RI_frame142\n",
            "50uM_ZnCl_pH=7_RI_frame155\n",
            "50uM_ZnCl_pH=7_RI_frame152\n",
            "50uM_ZnCl_pH=7_RI_frame173\n",
            "50uM_ZnCl_pH=7_RI_frame133\n",
            "50uM_ZnCl_pH=7_RI_frame159\n",
            "50uM_ZnCl_pH=7_RI_frame149\n",
            "50uM_ZnCl_pH=7_RI_frame125\n",
            "50uM_ZnCl_pH=7_RI_frame171\n",
            "50uM_ZnCl_pH=7_RI_frame184\n",
            "50uM_ZnCl_pH=7_RI_frame116\n",
            "50uM_ZnCl_pH=7_RI_frame141\n",
            "50uM_ZnCl_pH=7_RI_frame153\n",
            "50uM_ZnCl_pH=7_RI_frame188\n",
            "50uM_ZnCl_pH=7_RI_frame127\n",
            "50uM_ZnCl_pH=7_RI_frame112\n",
            "50uM_ZnCl_pH=7_RI_frame191\n",
            "50uM_ZnCl_pH=7_RI_frame104\n",
            "50uM_ZnCl_pH=7_RI_frame182\n",
            "50uM_ZnCl_pH=7_RI_frame154\n",
            "50uM_ZnCl_pH=7_RI_frame185\n",
            "50uM_ZnCl_pH=7_RI_frame161\n",
            "50uM_ZnCl_pH=7_RI_frame106\n",
            "50uM_ZnCl_pH=7_RI_frame102\n",
            "50uM_ZnCl_pH=7_RI_frame198\n",
            "50uM_ZnCl_pH=7_RI_frame174\n",
            "50uM_ZnCl_pH=7_RI_frame126\n",
            "50uM_ZnCl_pH=7_RI_frame140\n",
            "50uM_ZnCl_pH=7_RI_frame107\n",
            "50uM_ZnCl_pH=7_RI_frame148\n",
            "50uM_ZnCl_pH=7_RI_frame118\n",
            "50uM_ZnCl_pH=7_RI_frame163\n",
            "50uM_ZnCl_pH=7_RI_frame151\n",
            "50uM_ZnCl_pH=7_RI_frame166\n",
            "50uM_ZnCl_pH=7_RI_frame176\n",
            "50uM_ZnCl_pH=7_RI_frame186\n",
            "50uM_ZnCl_pH=7_RI_frame105\n",
            "50uM_ZnCl_pH=7_RI_frame119\n",
            "50uM_ZnCl_pH=7_RI_frame124\n",
            "50uM_ZnCl_pH=7_RI_frame158\n",
            "50uM_ZnCl_pH=7_RI_frame146\n",
            "50uM_ZnCl_pH=7_RI_frame187\n",
            "50uM_ZnCl_pH=7_RI_frame195\n",
            "50uM_ZnCl_pH=7_RI_frame115\n",
            "50uM_ZnCl_pH=7_RI_frame170\n",
            "50uM_ZnCl_pH=7_RI_frame175\n",
            "50uM_ZnCl_pH=7_RI_frame144\n",
            "50uM_ZnCl_pH=7_RI_frame180\n",
            "50uM_ZnCl_pH=7_RI_frame157\n",
            "50uM_ZnCl_pH=7_RI_frame164\n",
            "50uM_ZnCl_pH=7_RI_frame199\n",
            "50uM_ZnCl_pH=7_RI_frame128\n",
            "50uM_ZnCl_pH=7_RI_frame178\n",
            "50uM_ZnCl_pH=7_RI_frame100\n",
            "50uM_ZnCl_pH=7_RI_frame131\n",
            "50uM_ZnCl_pH=7_RI_frame197\n",
            "50uM_ZnCl_pH=7_RI_frame139\n",
            "50uM_ZnCl_pH=7_RI_frame132\n",
            "50uM_ZnCl_pH=7_RI_frame196\n",
            "50uM_ZnCl_pH=7_RI_frame123\n"
          ]
        }
      ],
      "source": [
        "# image normalization \n",
        "# image_input_path = '/data/nanolive/06222023_segmentation/*.tiff'\n",
        "# image_output_path = '/data/nanolive/06222023_segmentation/images_nor_001_9999/'\n",
        "\n",
        "image_input_path ='/data/nanolive/Zihan/04042022_adherent_crowd/*frame1*.tiff'\n",
        "image_output_path ='/data/nanolive/Zihan/04042022_adherent_crowd/images_nor_001_9999/'\n",
        "\n",
        "# image_input_path = '/home/xzhang/Projects/cellpose/Nanolive_mem_cellpose_data_v5/images/*.tiff'\n",
        "# image_output_path = '/home/xzhang/Projects/cellpose/Nanolive_mem_cellpose_data_v5/images_nor/'\n",
        "\n",
        "# image_input_path ='/data/download_data/colon_dataset/colon_30/images/*.tif'\n",
        "\n",
        "# image_output_path ='/data/nanolive/Zihan/04042022_adherent_crowd/images_nor_001_9999/'\n",
        "\n",
        "image_paths = glob.glob(image_input_path)\n",
        "print(len(image_paths))\n",
        "# for i in range(len(image_paths)):\n",
        "for i in image_paths:\n",
        "\n",
        "    filename =i.split('/')[-1].split('.')[0]\n",
        "    print(filename)\n",
        "    # break\n",
        "    image = tifffile.imread(i)\n",
        "\n",
        "    image_nor = normalize99(image, lower=1,upper=99)\n",
        "    # image_nor = normalize(image)\n",
        "    image_nor = np.clip(image_nor, 0, 1)\n",
        "    tifffile.imwrite(image_output_path+filename+'.tiff', np.uint8(255*image_nor))\n",
        "    # break\n"
      ]
    },
    {
      "attachments": {},
      "cell_type": "markdown",
      "metadata": {},
      "source": [
        "# make flow images"
      ]
    },
    {
      "cell_type": "code",
      "execution_count": 11,
      "metadata": {},
      "outputs": [],
      "source": [
        "#allen cell dataset\n",
        "# mask_input_path = '/data/download_data/quilt-data-access-tutorials-main/all_fov/allen100/masks/*.tiff'\n",
        "# flow_output_path = '/data/download_data/quilt-data-access-tutorials-main/all_fov/allen100/masks_with_flows/'\n",
        "\n",
        "#Nanolive dataset\n",
        "# mask_input_path = '/home/xzhang/Projects/cellpose/Nanolive_mem_cellpose_data_v5_nor/labels/17*.tiff'\n",
        "# flow_output_path = '/home/xzhang/Projects/cellpose/Nanolive_mem_cellpose_data_v5_nor/masks_with_flows/'\n",
        "\n",
        "\n",
        "# mask_input_path = '/home/xzhang/Projects/cellpose/Nanolive_mem_cellpose_data_dboundary/labels/*.tiff'\n",
        "# flow_output_path = '/home/xzhang/Projects/cellpose/Nanolive_mem_cellpose_data_dboundary/masks_with_flows/'\n",
        "\n",
        "#colon dataset\n",
        "# mask_input_path = '/home/xzhang/Projects/cellpose/colon/labels/*.tif'\n",
        "# flow_output_path = '/home/xzhang/Projects/cellpose/colon/masks_with_flows/'\n",
        "\n",
        "mask_input_path = '/data/download_data/colon_dataset/colon_30/labels/*.tif'\n",
        "flow_output_path = '/data/download_data/colon_dataset/colon_30/masks_with_flows/'\n",
        "\n",
        "\n",
        "\n",
        "\n"
      ]
    },
    {
      "cell_type": "markdown",
      "metadata": {
        "id": "e2cBEO1PLuO7"
      },
      "source": [
        "Check CUDA version and GPU"
      ]
    },
    {
      "cell_type": "markdown",
      "metadata": {
        "id": "h_iAN7cAthma"
      },
      "source": [
        "import libraries and check GPU (the first time you import cellpose the models will download)."
      ]
    },
    {
      "cell_type": "code",
      "execution_count": 12,
      "metadata": {},
      "outputs": [
        {
          "name": "stdout",
          "output_type": "stream",
          "text": [
            "['/home/xzhang/Projects/cellpose/Nanolive_mem_cellpose_data_v5_nor_1_99/cellpose_size_2500_36_RI_time00h00m00s_pred.tiff']\n"
          ]
        },
        {
          "name": "stderr",
          "output_type": "stream",
          "text": [
            "/home/xzhang/anaconda3/envs/monai/lib/python3.9/site-packages/numpy/core/fromnumeric.py:3474: RuntimeWarning: Mean of empty slice.\n",
            "  return _methods._mean(a, axis=axis, dtype=dtype,\n",
            "/home/xzhang/anaconda3/envs/monai/lib/python3.9/site-packages/numpy/core/_methods.py:189: RuntimeWarning: invalid value encountered in double_scalars\n",
            "  ret = ret.dtype.type(ret / rcount)\n"
          ]
        },
        {
          "name": "stdout",
          "output_type": "stream",
          "text": [
            "2.0 -2.0\n",
            "255 0\n"
          ]
        }
      ],
      "source": [
        "# convert mask <------>flow <---> mask\n",
        "import glob\n",
        "# from cellpose_dynamics import masks_to_flows\n",
        "# from cellpose_utils import masks_to_edges\n",
        "from swincell.cellpose_dynamics import batch_masks_to_flows\n",
        "#1. orginal mask\n",
        "\n",
        "\n",
        "\n",
        "\n",
        "batch_masks_to_flows(mask_input_path,flow_output_path,delete_edges=False, binary2sequential=True)\n"
      ]
    },
    {
      "attachments": {},
      "cell_type": "markdown",
      "metadata": {},
      "source": [
        "# results visualization"
      ]
    }
  ],
  "metadata": {
    "accelerator": "GPU",
    "colab": {
      "collapsed_sections": [],
      "include_colab_link": true,
      "name": "run_cellpose_GPU.ipynb",
      "provenance": []
    },
    "kernelspec": {
      "display_name": "Python 3.9.7 ('base')",
      "language": "python",
      "name": "python3"
    },
    "language_info": {
      "codemirror_mode": {
        "name": "ipython",
        "version": 3
      },
      "file_extension": ".py",
      "mimetype": "text/x-python",
      "name": "python",
      "nbconvert_exporter": "python",
      "pygments_lexer": "ipython3",
      "version": "3.9.12"
    },
    "vscode": {
      "interpreter": {
        "hash": "5622f79b138b3d06c87c9625518e7908c22115a5b982864a5925689bdaf943b1"
      }
    }
  },
  "nbformat": 4,
  "nbformat_minor": 0
}
