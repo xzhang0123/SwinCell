{
 "cells": [
  {
   "attachments": {},
   "cell_type": "markdown",
   "metadata": {},
   "source": [
    "# Model inference with pretrained models"
   ]
  },
  {
   "cell_type": "code",
   "execution_count": 1,
   "metadata": {},
   "outputs": [
    {
     "name": "stderr",
     "output_type": "stream",
     "text": [
      "/home/xzhang/.local/lib/python3.10/site-packages/tqdm/auto.py:22: TqdmWarning: IProgress not found. Please update jupyter and ipywidgets. See https://ipywidgets.readthedocs.io/en/stable/user_install.html\n",
      "  from .autonotebook import tqdm as notebook_tqdm\n"
     ]
    }
   ],
   "source": [
    "import numpy as np\n",
    "import torch\n",
    "from swincell.utils.utils import load_model\n",
    "from swincell.utils.utils import load_default_config\n",
    "from swincell.cellpose_dynamics import compute_masks\n",
    "# from swincell.utils.data_utils import flow_reshaped, split_dataset\n"
   ]
  },
  {
   "attachments": {},
   "cell_type": "markdown",
   "metadata": {},
   "source": [
    "# Configure inference parameters"
   ]
  },
  {
   "cell_type": "code",
   "execution_count": 62,
   "metadata": {},
   "outputs": [],
   "source": [
    "\n",
    "device = torch.device(\"cuda\" if torch.cuda.is_available() else \"cpu\")\n",
    "data_dir = '../../Nanolive_demo/'\n",
    "\n",
    "args =load_default_config()\n",
    "args.data_dir=data_dir\n",
    "args.dataset = 'nanolive'\n",
    "\n",
    "# args.pretrained_model_name = '../../pretrained_models/colon_model.pt'\n",
    "# args.pretrained_model_name = '../../pretrained_models/nanolive_model.pt'\n",
    "args.pretrained_model_name = '../../pretrained_models/nanolive_v5_swinunet_cellpose.pt'\n",
    "# args.pretrained_model_name = '../../pretrained_models/nanolive_v6_swinunet_cellpose.pt'"
   ]
  },
  {
   "cell_type": "code",
   "execution_count": 63,
   "metadata": {},
   "outputs": [
    {
     "data": {
      "text/plain": [
       "<All keys matched successfully>"
      ]
     },
     "execution_count": 63,
     "metadata": {},
     "output_type": "execute_result"
    }
   ],
   "source": [
    "model = load_model(args).to(device)\n",
    "model_dict = torch.load(args.pretrained_model_name)[\"state_dict\"]\n",
    "model.load_state_dict(model_dict)"
   ]
  },
  {
   "cell_type": "code",
   "execution_count": 64,
   "metadata": {},
   "outputs": [
    {
     "name": "stdout",
     "output_type": "stream",
     "text": [
      "../../results/test_inference_swin\n",
      "5\n",
      "['../../Nanolive_demo/images/12_RI_time00h00m00s.tiff', '../../Nanolive_demo/images/15_RI_time00h00m00s.tiff', '../../Nanolive_demo/images/16_RI_time00h00m00s.tiff', '../../Nanolive_demo/images/17_RI_time00h00m00s.tiff', '../../Nanolive_demo/images/31_RI_time00h00m00s.tiff']\n"
     ]
    }
   ],
   "source": [
    "# configuration to segment colon\n",
    "from natsort import natsorted\n",
    "import glob\n",
    "import os\n",
    "\n",
    "\n",
    "model_input_ROI = (128,128,32)\n",
    "infer_ROI = (256,256,32)\n",
    "# infer_ROI = (128,128,32)\n",
    "\n",
    "# model_type = 'swin'\n",
    "\n",
    "a_min = 1\n",
    "a_max = 255\n",
    "# a_max = 100\n",
    "# a_min = 18000\n",
    "# a_max = 31000\n",
    "dsp =1\n",
    "\n",
    "min_size = 50*50\n",
    "\n",
    "output_dir ='../../results/test_inference_'+ args.model\n",
    "print(output_dir)\n",
    "#if output_dir not exist, create it\n",
    "if not os.path.exists(output_dir):\n",
    "    os.makedirs(output_dir)\n",
    "\n",
    "#images to predict\n",
    "img_full_paths = natsorted(glob.glob(data_dir+'images/*.tif*'))\n",
    "print(len(img_full_paths))\n",
    "print(img_full_paths)"
   ]
  },
  {
   "cell_type": "code",
   "execution_count": 65,
   "metadata": {},
   "outputs": [
    {
     "name": "stdout",
     "output_type": "stream",
     "text": [
      "5\n"
     ]
    }
   ],
   "source": [
    "from swincell.utils.data_utils import split_dataset\n",
    "split_dataset_inference = True\n",
    "if split_dataset_inference:\n",
    "\n",
    "    _, _, inference_datalist = split_dataset(data_dir, split_ratios=[0.0,0.0,1.0]) \n",
    "else:\n",
    "    inference_datalist = img_full_paths\n",
    "print(len(inference_datalist))\n"
   ]
  },
  {
   "cell_type": "code",
   "execution_count": 66,
   "metadata": {},
   "outputs": [
    {
     "data": {
      "text/plain": [
       "'nanolive'"
      ]
     },
     "execution_count": 66,
     "metadata": {},
     "output_type": "execute_result"
    }
   ],
   "source": [
    "from monai import data, transforms\n",
    "\n",
    "if args.dataset =='nanolive':\n",
    "    transform_resize = transforms.Resized(keys=[\"image\"],spatial_size=(512//dsp,512//dsp,96//dsp))\n",
    "elif args.dataset =='colon':\n",
    "    transform_resize = transforms.Resized(keys=[\"image\"],spatial_size=(1200//dsp,960//dsp,128//dsp))\n",
    "elif args.dataset =='allen':\n",
    "    transform_resize = transforms.Resized(keys=[\"image\"],spatial_size=(900//dsp,600//dsp,64//dsp)),\n",
    "else:\n",
    "    raise Warning(\"dataset not defined\")\n",
    "if args.dataset =='nanolive':\n",
    "    test_transform = transforms.Compose(\n",
    "        [\n",
    "            transforms.LoadImaged(keys=[\"image\"]),\n",
    "            transforms.EnsureChannelFirstd(keys=[\"image\"]),\n",
    "            transform_resize,\n",
    "            transforms.ScaleIntensityRanged(\n",
    "                keys=[\"image\"], a_min=a_min, a_max=a_max, b_min=0, b_max=1, clip=True\n",
    "            ),\n",
    "            transforms.ToTensord(keys=[\"image\"]),\n",
    "        ]\n",
    "    )\n",
    "else:\n",
    "    test_transform = transforms.Compose(\n",
    "        [\n",
    "            transforms.LoadImaged(keys=[\"image\"]),\n",
    "            transforms.EnsureChannelFirstd(keys=[\"image\"]),\n",
    "            # transforms.Resized(keys=[\"image\"],spatial_size=(512//dsp,512//dsp,96//dsp)),\n",
    "            transforms.ScaleIntensityRanged(\n",
    "                # keys=[\"image\"], a_min=17000, a_max=29000, b_min=0, b_max=1, clip=True\n",
    "                keys=[\"image\"], a_min=a_min, a_max=a_max, b_min=0, b_max=1, clip=True\n",
    "            ),\n",
    "            transforms.ToTensord(keys=[\"image\"]),\n",
    "        ]\n",
    "    )\n",
    "\n",
    "\n",
    "test_ds = data.Dataset(data= inference_datalist[:1], transform=test_transform)\n",
    "# test_loader = data.DataLoader(\n",
    "#         test_ds, batch_size=1, num_workers=24, sampler=None, drop_last=True\n",
    "#     )\n",
    "test_loader = data.DataLoader(\n",
    "        test_ds, batch_size=1, sampler=None, drop_last=True\n",
    "    )\n",
    "\n",
    "args.dataset"
   ]
  },
  {
   "cell_type": "code",
   "execution_count": 60,
   "metadata": {},
   "outputs": [],
   "source": [
    "# model = load_model(args).to(device)\n",
    "\n"
   ]
  },
  {
   "cell_type": "code",
   "execution_count": 67,
   "metadata": {},
   "outputs": [
    {
     "name": "stdout",
     "output_type": "stream",
     "text": [
      "_pred.tiff\n",
      "logits shape (4, 512, 512, 96)\n",
      "torch.Size([1, 4, 512, 512, 96]) metatensor(53.4563, device='cuda:0') metatensor(-313.1399, device='cuda:0')\n"
     ]
    }
   ],
   "source": [
    "from monai.transforms import (\n",
    "    AsDiscrete,\n",
    "    Activations,\n",
    ")\n",
    "from functools import partial\n",
    "from monai.inferers import sliding_window_inference\n",
    "import tifffile\n",
    "\n",
    "model_inferer = partial(\n",
    "    sliding_window_inference,\n",
    "    roi_size=infer_ROI,\n",
    "    sw_batch_size=2,\n",
    "    predictor=model,\n",
    "    overlap=0.5,\n",
    "    mode='gaussian'\n",
    ")\n",
    "post_sigmoid = Activations(sigmoid=True)\n",
    "post_pred = AsDiscrete(argmax=False, threshold=0.5)\n",
    "with torch.no_grad():\n",
    "        for idx, batch_data in enumerate(test_loader):\n",
    "            out_filename = inference_datalist[idx]['image'].split('.')[0].split('/')[-1] +'_pred.tiff' \n",
    "            data_test = batch_data[\"image\"]\n",
    "            data_test = data_test.cuda(device)\n",
    "            logits = model_inferer(data_test)\n",
    "\n",
    "            \n",
    "            print(out_filename)\n",
    "            logits_out =  np.squeeze(logits.detach().cpu().numpy())\n",
    "            \n",
    "            print('logits shape',logits_out.shape)\n",
    "\n",
    "            # logits_out =np.float32(logits_out)\n",
    "            logits_out = np.transpose(logits_out,(0,3,2,1))\n",
    "\n",
    "            tifffile.imwrite(output_dir +'/logits_'+out_filename ,logits_out)\n",
    "            # print('cell prob ', logits[0].max(),logits[0].min())\n",
    "            # logits_out[0] = np.uint8(logits_out[0]>0)\n",
    "            #\n",
    "            # logits_out[0] = post_pred(post_sigmoid(logits_out[0]))\n",
    "            # # masks_recon,p = compute_masks(logits_out[1:4,:,:,:],logits_out[0,:,:,:],cellprob_threshold=0.0,flow_threshold=0, do_3D=True)\n",
    "            # masks_recon,p = compute_masks(10*logits_out[1:4,:,:,:],logits_out[0,:,:,:],cellprob_threshold=0.4,flow_threshold=0.4, do_3D=True,min_size=min_size, use_gpu=True)\n",
    "            \n",
    "            \n",
    "            # tifffile.imwrite(output_dir +'/mask_size_'+str(round(min_size))+'_'+out_filename ,masks_recon)\n",
    "\n",
    "            print(logits.shape, logits.max(),logits.min())"
   ]
  },
  {
   "cell_type": "code",
   "execution_count": null,
   "metadata": {},
   "outputs": [],
   "source": [
    "logits_out[0] = np.uint8(logits_out[0]>0)\n",
    "masks_recon,p = compute_masks(10*logits_out[1:4,:,:,:],logits_out[0,:,:,:],cellprob_threshold=0.4,flow_threshold=0.4, do_3D=True,min_size=min_size, use_gpu=True)\n",
    "tifffile.imwrite(output_dir +'/mask_size_'+str(round(min_size))+'_'+out_filename ,masks_recon)"
   ]
  },
  {
   "attachments": {},
   "cell_type": "markdown",
   "metadata": {},
   "source": [
    "## visualize inference results"
   ]
  },
  {
   "cell_type": "code",
   "execution_count": 19,
   "metadata": {},
   "outputs": [
    {
     "name": "stderr",
     "output_type": "stream",
     "text": [
      "Clipping input data to the valid range for imshow with RGB data ([0..1] for floats or [0..255] for integers).\n",
      "Clipping input data to the valid range for imshow with RGB data ([0..1] for floats or [0..255] for integers).\n"
     ]
    },
    {
     "data": {
      "image/png": "[encoded data removed]",
      "text/plain": [
       "<Figure size 1500x800 with 6 Axes>"
      ]
     },
     "metadata": {},
     "output_type": "display_data"
    }
   ],
   "source": [
    "\n",
    "n_row = 2\n",
    "fig, axes = plt.subplots(n_row, 3,sharex=False, sharey=False, figsize=(15,8))\n",
    "\n",
    "slice2view = int(args.roi_z//2)\n",
    "for i in range(n_row):\n",
    "    datai = next(iter(train_loader))\n",
    "    img2plot=datai['image']\n",
    "    label2plot=datai['label']\n",
    "    # print(img2plot.shape, label2plot.shape)\n",
    "    top= torch.max(img2plot[0,0,:,:,:],dim=-1)[0].detach().cpu()\n",
    "\n",
    "    mask0= label2plot[0,0,:,:,slice2view].detach().cpu()\n",
    "    # one flow\n",
    "    flow= label2plot[0,1:4,:,:,slice2view].detach().cpu().numpy().transpose(1, 2, 0)\n",
    "\n",
    "    # print(mask0.max(),mask0.min())\n",
    "    # print('mask2',mask2.max(),mask2.min())\n",
    "    axes[i,0].imshow(img2plot[0,0,:,:,slice2view])\n",
    "    axes[i,0].set_title('Raw')\n",
    "    \n",
    "    axes[i,1].imshow(mask0)\n",
    "    axes[i,1].set_title('Label')\n",
    "    axes[i,2].imshow(flow)\n",
    "    axes[i,2].set_title('Flows')\n",
    "\n",
    "    for col in range(3):\n",
    "      axes[i,col].axis('off')\n",
    "\n"
   ]
  },
  {
   "cell_type": "code",
   "execution_count": 18,
   "metadata": {},
   "outputs": [],
   "source": [
    "import torch, gc\n",
    "gc.collect()\n",
    "torch.cuda.empty_cache()"
   ]
  }
 ],
 "metadata": {
  "kernelspec": {
   "display_name": "swincell",
   "language": "python",
   "name": "swincell"
  },
  "language_info": {
   "codemirror_mode": {
    "name": "ipython",
    "version": 3
   },
   "file_extension": ".py",
   "mimetype": "text/x-python",
   "name": "python",
   "nbconvert_exporter": "python",
   "pygments_lexer": "ipython3",
   "version": "3.10.13"
  },
  "vscode": {
   "interpreter": {
    "hash": "bb9c6158172ede23247a3373a6f173f21a942dd5fa114756139157b35db9393b"
   }
  }
 },
 "nbformat": 4,
 "nbformat_minor": 4
}
