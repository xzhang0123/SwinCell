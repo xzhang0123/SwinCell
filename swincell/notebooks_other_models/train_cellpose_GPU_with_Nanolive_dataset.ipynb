{
  "cells": [
    {
      "cell_type": "markdown",
      "metadata": {
        "colab_type": "text",
        "id": "view-in-github"
      },
      "source": [
        "<a href=\"https://colab.research.google.com/github/MouseLand/cellpose/blob/master/notebooks/run_cellpose_GPU.ipynb\" target=\"_parent\"><img src=\"https://colab.research.google.com/assets/colab-badge.svg\" alt=\"Open In Colab\"/></a>"
      ]
    },
    {
      "attachments": {},
      "cell_type": "markdown",
      "metadata": {
        "id": "Q7c7V4yEqDc_"
      },
      "source": [
        "# Running cellpose with/without training\n",
        "\n",
        "(thanks to Matteo Carandini for setting this up)\n",
        "\n",
        "UPDATED DEC 2020 for TORCH VERSION cellpose v0.6\n",
        "\n",
        "UPDATED NOV 2021 for cellpose / omnipose v0.7"
      ]
    },
    {
      "cell_type": "markdown",
      "metadata": {
        "id": "VbqFni8kuFar"
      },
      "source": [
        "## installation"
      ]
    },
    {
      "cell_type": "markdown",
      "metadata": {
        "id": "QUfSFlZgp1aV"
      },
      "source": [
        "Install cellpose -- by default the torch GPU version is installed in COLAB notebook.\n",
        "\n",
        "Note that cellpose uses the latest version of numpy, so please click the \"Restart runtime\" button once the install completes."
      ]
    },
    {
      "cell_type": "code",
      "execution_count": 1,
      "metadata": {
        "colab": {
          "base_uri": "https://localhost:8080/",
          "height": 711
        },
        "id": "jlMnqge-lQ9s",
        "outputId": "c28e20b2-847a-481f-fa1c-e048e53269e2"
      },
      "outputs": [
        {
          "name": "stdout",
          "output_type": "stream",
          "text": [
            "Looking in indexes: https://pypi.org/simple, https://pypi.ngc.nvidia.com\n",
            "Collecting opencv-python-headless<4.3\n",
            "  Downloading opencv_python_headless-4.2.0.34-cp38-cp38-manylinux1_x86_64.whl (21.6 MB)\n",
            "\u001b[2K     \u001b[90m━━━━━━━━━━━━━━━━━━━━━━━━━━━━━━━━━━━━━━━━\u001b[0m \u001b[32m21.6/21.6 MB\u001b[0m \u001b[31m6.8 MB/s\u001b[0m eta \u001b[36m0:00:00\u001b[0m00:01\u001b[0m00:01\u001b[0mm\n",
            "\u001b[?25hRequirement already satisfied: numpy>=1.17.3 in /home/xzhang/anaconda3/envs/cellpose/lib/python3.8/site-packages (from opencv-python-headless<4.3) (1.23.5)\n",
            "Installing collected packages: opencv-python-headless\n",
            "  Attempting uninstall: opencv-python-headless\n",
            "    Found existing installation: opencv-python-headless 4.7.0.72\n",
            "    Uninstalling opencv-python-headless-4.7.0.72:\n",
            "      Successfully uninstalled opencv-python-headless-4.7.0.72\n",
            "Successfully installed opencv-python-headless-4.2.0.34\n",
            "Looking in indexes: https://pypi.org/simple, https://pypi.ngc.nvidia.com\n",
            "Requirement already satisfied: cellpose in /home/xzhang/anaconda3/envs/cellpose/lib/python3.8/site-packages (2.2.3)\n",
            "Requirement already satisfied: numpy>=1.20.0 in /home/xzhang/anaconda3/envs/cellpose/lib/python3.8/site-packages (from cellpose) (1.23.5)\n",
            "Requirement already satisfied: llvmlite in /home/xzhang/anaconda3/envs/cellpose/lib/python3.8/site-packages (from cellpose) (0.39.1)\n",
            "Requirement already satisfied: tifffile in /home/xzhang/anaconda3/envs/cellpose/lib/python3.8/site-packages (from cellpose) (2023.2.27)\n",
            "Requirement already satisfied: imagecodecs in /home/xzhang/anaconda3/envs/cellpose/lib/python3.8/site-packages (from cellpose) (2023.1.23)\n",
            "Requirement already satisfied: natsort in /home/xzhang/anaconda3/envs/cellpose/lib/python3.8/site-packages (from cellpose) (8.3.0)\n",
            "Requirement already satisfied: scipy in /home/xzhang/anaconda3/envs/cellpose/lib/python3.8/site-packages (from cellpose) (1.10.1)\n",
            "Requirement already satisfied: opencv-python-headless in /home/xzhang/anaconda3/envs/cellpose/lib/python3.8/site-packages (from cellpose) (4.2.0.34)\n",
            "Requirement already satisfied: fastremap in /home/xzhang/anaconda3/envs/cellpose/lib/python3.8/site-packages (from cellpose) (1.13.4)\n",
            "Requirement already satisfied: tqdm in /home/xzhang/anaconda3/envs/cellpose/lib/python3.8/site-packages (from cellpose) (4.65.0)\n",
            "Requirement already satisfied: numba>=0.53.0 in /home/xzhang/anaconda3/envs/cellpose/lib/python3.8/site-packages (from cellpose) (0.56.4)\n",
            "Requirement already satisfied: torch>=1.6 in /home/xzhang/anaconda3/envs/cellpose/lib/python3.8/site-packages (from cellpose) (2.0.1)\n",
            "Requirement already satisfied: roifile in /home/xzhang/anaconda3/envs/cellpose/lib/python3.8/site-packages (from cellpose) (2023.5.12)\n",
            "Requirement already satisfied: importlib-metadata in /home/xzhang/anaconda3/envs/cellpose/lib/python3.8/site-packages (from numba>=0.53.0->cellpose) (6.0.0)\n",
            "Requirement already satisfied: setuptools in /home/xzhang/anaconda3/envs/cellpose/lib/python3.8/site-packages (from numba>=0.53.0->cellpose) (67.4.0)\n",
            "Requirement already satisfied: nvidia-nccl-cu11==2.14.3 in /home/xzhang/anaconda3/envs/cellpose/lib/python3.8/site-packages (from torch>=1.6->cellpose) (2.14.3)\n",
            "Requirement already satisfied: nvidia-curand-cu11==10.2.10.91 in /home/xzhang/anaconda3/envs/cellpose/lib/python3.8/site-packages (from torch>=1.6->cellpose) (10.2.10.91)\n",
            "Requirement already satisfied: nvidia-nvtx-cu11==11.7.91 in /home/xzhang/anaconda3/envs/cellpose/lib/python3.8/site-packages (from torch>=1.6->cellpose) (11.7.91)\n",
            "Requirement already satisfied: typing-extensions in /home/xzhang/anaconda3/envs/cellpose/lib/python3.8/site-packages (from torch>=1.6->cellpose) (4.5.0)\n",
            "Requirement already satisfied: nvidia-cuda-runtime-cu11==11.7.99 in /home/xzhang/anaconda3/envs/cellpose/lib/python3.8/site-packages (from torch>=1.6->cellpose) (11.7.99)\n",
            "Requirement already satisfied: filelock in /home/xzhang/anaconda3/envs/cellpose/lib/python3.8/site-packages (from torch>=1.6->cellpose) (3.12.2)\n",
            "Requirement already satisfied: networkx in /home/xzhang/anaconda3/envs/cellpose/lib/python3.8/site-packages (from torch>=1.6->cellpose) (3.1)\n",
            "Requirement already satisfied: nvidia-cusolver-cu11==11.4.0.1 in /home/xzhang/anaconda3/envs/cellpose/lib/python3.8/site-packages (from torch>=1.6->cellpose) (11.4.0.1)\n",
            "Requirement already satisfied: nvidia-cublas-cu11==11.10.3.66 in /home/xzhang/anaconda3/envs/cellpose/lib/python3.8/site-packages (from torch>=1.6->cellpose) (11.10.3.66)\n",
            "Requirement already satisfied: nvidia-cuda-cupti-cu11==11.7.101 in /home/xzhang/anaconda3/envs/cellpose/lib/python3.8/site-packages (from torch>=1.6->cellpose) (11.7.101)\n",
            "Requirement already satisfied: nvidia-cuda-nvrtc-cu11==11.7.99 in /home/xzhang/anaconda3/envs/cellpose/lib/python3.8/site-packages (from torch>=1.6->cellpose) (11.7.99)\n",
            "Requirement already satisfied: sympy in /home/xzhang/anaconda3/envs/cellpose/lib/python3.8/site-packages (from torch>=1.6->cellpose) (1.12)\n",
            "Requirement already satisfied: nvidia-cudnn-cu11==8.5.0.96 in /home/xzhang/anaconda3/envs/cellpose/lib/python3.8/site-packages (from torch>=1.6->cellpose) (8.5.0.96)\n",
            "Requirement already satisfied: triton==2.0.0 in /home/xzhang/anaconda3/envs/cellpose/lib/python3.8/site-packages (from torch>=1.6->cellpose) (2.0.0)\n",
            "Requirement already satisfied: nvidia-cufft-cu11==10.9.0.58 in /home/xzhang/anaconda3/envs/cellpose/lib/python3.8/site-packages (from torch>=1.6->cellpose) (10.9.0.58)\n",
            "Requirement already satisfied: jinja2 in /home/xzhang/anaconda3/envs/cellpose/lib/python3.8/site-packages (from torch>=1.6->cellpose) (3.1.2)\n",
            "Requirement already satisfied: nvidia-cusparse-cu11==11.7.4.91 in /home/xzhang/anaconda3/envs/cellpose/lib/python3.8/site-packages (from torch>=1.6->cellpose) (11.7.4.91)\n",
            "Requirement already satisfied: wheel in /home/xzhang/anaconda3/envs/cellpose/lib/python3.8/site-packages (from nvidia-cublas-cu11==11.10.3.66->torch>=1.6->cellpose) (0.38.4)\n",
            "Requirement already satisfied: lit in /home/xzhang/anaconda3/envs/cellpose/lib/python3.8/site-packages (from triton==2.0.0->torch>=1.6->cellpose) (16.0.6)\n",
            "Requirement already satisfied: cmake in /home/xzhang/anaconda3/envs/cellpose/lib/python3.8/site-packages (from triton==2.0.0->torch>=1.6->cellpose) (3.27.0)\n",
            "Requirement already satisfied: zipp>=0.5 in /home/xzhang/anaconda3/envs/cellpose/lib/python3.8/site-packages (from importlib-metadata->numba>=0.53.0->cellpose) (3.15.0)\n",
            "Requirement already satisfied: MarkupSafe>=2.0 in /home/xzhang/anaconda3/envs/cellpose/lib/python3.8/site-packages (from jinja2->torch>=1.6->cellpose) (2.1.2)\n",
            "Requirement already satisfied: mpmath>=0.19 in /home/xzhang/anaconda3/envs/cellpose/lib/python3.8/site-packages (from sympy->torch>=1.6->cellpose) (1.3.0)\n"
          ]
        }
      ],
      "source": [
        "!pip install \"opencv-python-headless<4.3\"\n",
        "!pip install cellpose"
      ]
    },
    {
      "cell_type": "markdown",
      "metadata": {
        "id": "e2cBEO1PLuO7"
      },
      "source": [
        "Check CUDA version and GPU"
      ]
    },
    {
      "cell_type": "code",
      "execution_count": 1,
      "metadata": {
        "colab": {
          "base_uri": "https://localhost:8080/"
        },
        "id": "Tt8hgC7rniP8",
        "outputId": "eda4c87d-497d-489e-854a-3f7cac1ca697"
      },
      "outputs": [
        {
          "name": "stdout",
          "output_type": "stream",
          "text": [
            "nvcc: NVIDIA (R) Cuda compiler driver\n",
            "Copyright (c) 2005-2015 NVIDIA Corporation\n",
            "Built on Tue_Aug_11_14:27:32_CDT_2015\n",
            "Cuda compilation tools, release 7.5, V7.5.17\n",
            "Fri Dec 29 12:18:23 2023       \n",
            "+-----------------------------------------------------------------------------+\n",
            "| NVIDIA-SMI 525.89.02    Driver Version: 525.89.02    CUDA Version: 12.0     |\n",
            "|-------------------------------+----------------------+----------------------+\n",
            "| GPU  Name        Persistence-M| Bus-Id        Disp.A | Volatile Uncorr. ECC |\n",
            "| Fan  Temp  Perf  Pwr:Usage/Cap|         Memory-Usage | GPU-Util  Compute M. |\n",
            "|                               |                      |               MIG M. |\n",
            "|===============================+======================+======================|\n",
            "|   0  NVIDIA GeForce ...  Off  | 00000000:01:00.0  On |                  N/A |\n",
            "|  0%   49C    P5    35W / 350W |   1505MiB / 24576MiB |     53%      Default |\n",
            "|                               |                      |                  N/A |\n",
            "+-------------------------------+----------------------+----------------------+\n",
            "|   1  NVIDIA GeForce ...  Off  | 00000000:21:00.0 Off |                  N/A |\n",
            "|  0%   39C    P8    18W / 350W |      3MiB / 24576MiB |      0%      Default |\n",
            "|                               |                      |                  N/A |\n",
            "+-------------------------------+----------------------+----------------------+\n",
            "                                                                               \n",
            "+-----------------------------------------------------------------------------+\n",
            "| Processes:                                                                  |\n",
            "|  GPU   GI   CI        PID   Type   Process name                  GPU Memory |\n",
            "|        ID   ID                                                   Usage      |\n",
            "|=============================================================================|\n",
            "|    0   N/A  N/A      3985      G   /usr/bin/X                        621MiB |\n",
            "|    0   N/A  N/A      5429      G   /usr/bin/gnome-shell              115MiB |\n",
            "|    0   N/A  N/A      6481      G   ...RendererForSitePerProcess      154MiB |\n",
            "|    0   N/A  N/A     19908      G   /usr/lib64/firefox/firefox        559MiB |\n",
            "|    0   N/A  N/A     99583      G   ...358338257374523902,262144       44MiB |\n",
            "+-----------------------------------------------------------------------------+\n"
          ]
        }
      ],
      "source": [
        "!nvcc --version\n",
        "!nvidia-smi"
      ]
    },
    {
      "cell_type": "markdown",
      "metadata": {
        "id": "h_iAN7cAthma"
      },
      "source": [
        "import libraries and check GPU (the first time you import cellpose the models will download)."
      ]
    },
    {
      "cell_type": "code",
      "execution_count": 4,
      "metadata": {
        "colab": {
          "base_uri": "https://localhost:8080/"
        },
        "id": "hG3LSmJmLylT",
        "outputId": "44491854-c45f-40e2-ea8c-4c77b67d369b"
      },
      "outputs": [
        {
          "name": "stdout",
          "output_type": "stream",
          "text": [
            ">>> GPU activated? 1\n",
            "2024-01-06 15:44:06,898 [INFO] WRITING LOG OUTPUT TO /home/xzhang/.cellpose/run.log\n",
            "2024-01-06 15:44:06,899 [INFO] \n",
            "cellpose version: \t2.2 \n",
            "platform:       \tlinux \n",
            "python version: \t3.9.12 \n",
            "torch version:  \t1.11.0\n"
          ]
        }
      ],
      "source": [
        "import numpy as np\n",
        "import time, os, sys\n",
        "import tifffile\n",
        "from urllib.parse import urlparse\n",
        "import skimage.io\n",
        "import matplotlib.pyplot as plt\n",
        "import matplotlib as mpl\n",
        "%matplotlib inline\n",
        "mpl.rcParams['figure.dpi'] = 300\n",
        "\n",
        "from urllib.parse import urlparse\n",
        "from cellpose import models, core\n",
        "\n",
        "use_GPU = core.use_gpu()\n",
        "print('>>> GPU activated? %d'%use_GPU)\n",
        "\n",
        "# call logger_setup to have output of cellpose written\n",
        "from cellpose.io import logger_setup\n",
        "logger_setup();\n"
      ]
    },
    {
      "cell_type": "code",
      "execution_count": null,
      "metadata": {},
      "outputs": [],
      "source": []
    },
    {
      "cell_type": "markdown",
      "metadata": {
        "id": "d1Ta76yatmjH"
      },
      "source": [
        "Download sample images"
      ]
    },
    {
      "attachments": {},
      "cell_type": "markdown",
      "metadata": {},
      "source": [
        "# load 3d dataset allencell"
      ]
    },
    {
      "cell_type": "code",
      "execution_count": 27,
      "metadata": {},
      "outputs": [
        {
          "name": "stdout",
          "output_type": "stream",
          "text": [
            "8 8 2 2 0 0\n"
          ]
        }
      ],
      "source": [
        "from natsort import natsorted\n",
        "import glob\n",
        "import os \n",
        "\n",
        "data_folder = \"/home/xzhang/Projects/cellpose/Nanolive_mem_cellpose_data_v5_nor_1_99/\"\n",
        "image_files = natsorted(glob.glob(data_folder + 'images/*.tiff'))\n",
        "seg_files = natsorted(glob.glob(data_folder + 'labels/*.tiff'))\n",
        "fold = 5\n",
        "valid_img_files = [f for i,f in enumerate(image_files) if i%5 == fold-1]\n",
        "valid_seg_files = [f for i,f in enumerate(seg_files) if i%5 == fold-1]\n",
        "\n",
        "test_img_files = [f for i,f in enumerate(image_files) if i%5 == fold]\n",
        "test_seg_files = [f for i,f in enumerate(seg_files) if i%5 == fold]\n",
        "\n",
        "train_img_files = [f for f in image_files if f not in valid_img_files and f not in test_img_files]\n",
        "train_seg_files = [f for f in seg_files if f not in valid_seg_files and f not in test_seg_files]\n",
        "\n",
        "\n",
        "print(len(train_img_files), len(train_seg_files), len(valid_img_files), len(valid_seg_files), len(test_img_files), len(test_seg_files))\n",
        "# print(train_img_files,valid_img_files)"
      ]
    },
    {
      "attachments": {},
      "cell_type": "markdown",
      "metadata": {},
      "source": [
        "# test predicting 2D cellpose built-in models without finetuning"
      ]
    },
    {
      "cell_type": "code",
      "execution_count": 23,
      "metadata": {},
      "outputs": [
        {
          "name": "stdout",
          "output_type": "stream",
          "text": [
            "2024-01-06 17:09:42,365 [INFO] ** TORCH CUDA version installed and working. **\n",
            "2024-01-06 17:09:42,365 [INFO] >>>> using GPU\n",
            "2024-01-06 17:09:42,366 [INFO] >> cyto << model set to be used\n",
            "2024-01-06 17:09:42,466 [INFO] >>>> model diam_mean =  30.000 (ROIs rescaled to this size during training)\n",
            "running cellpose 2D slice flows => masks\n",
            "2024-01-06 17:09:42,481 [INFO] ~~~ FINDING MASKS ~~~\n",
            "2024-01-06 17:09:42,534 [INFO] multi-stack tiff read in as having 96 planes 1 channels\n",
            "2024-01-06 17:09:43,377 [INFO] running YX: 96 planes of size (512, 512)\n",
            "2024-01-06 17:09:43,387 [INFO] 0%|          | 0/12 [00:00<?, ?it/s]\n",
            "2024-01-06 17:09:43,494 [INFO] 8%|8         | 1/12 [00:00<00:01,  9.36it/s]\n",
            "2024-01-06 17:09:43,605 [INFO] 17%|#6        | 2/12 [00:00<00:01,  9.17it/s]\n",
            "2024-01-06 17:09:43,711 [INFO] 25%|##5       | 3/12 [00:00<00:00,  9.29it/s]\n",
            "2024-01-06 17:09:43,816 [INFO] 33%|###3      | 4/12 [00:00<00:00,  9.37it/s]\n",
            "2024-01-06 17:09:43,921 [INFO] 42%|####1     | 5/12 [00:00<00:00,  9.43it/s]\n",
            "2024-01-06 17:09:44,026 [INFO] 50%|#####     | 6/12 [00:00<00:00,  9.46it/s]\n",
            "2024-01-06 17:09:44,131 [INFO] 58%|#####8    | 7/12 [00:00<00:00,  9.47it/s]\n",
            "2024-01-06 17:09:44,238 [INFO] 67%|######6   | 8/12 [00:00<00:00,  9.43it/s]\n",
            "2024-01-06 17:09:44,344 [INFO] 75%|#######5  | 9/12 [00:00<00:00,  9.45it/s]\n",
            "2024-01-06 17:09:44,450 [INFO] 83%|########3 | 10/12 [00:01<00:00,  9.44it/s]\n",
            "2024-01-06 17:09:44,556 [INFO] 92%|#########1| 11/12 [00:01<00:00,  9.44it/s]\n",
            "2024-01-06 17:09:44,661 [INFO] 100%|##########| 12/12 [00:01<00:00,  9.47it/s]\n",
            "2024-01-06 17:09:44,661 [INFO] 100%|##########| 12/12 [00:01<00:00,  9.42it/s]\n",
            "2024-01-06 17:09:44,890 [INFO] running ZY: 512 planes of size (96, 512)\n",
            "2024-01-06 17:09:44,902 [INFO] 0%|          | 0/32 [00:00<?, ?it/s]\n",
            "2024-01-06 17:09:45,009 [INFO] 9%|9         | 3/32 [00:00<00:01, 28.37it/s]\n",
            "2024-01-06 17:09:45,116 [INFO] 19%|#8        | 6/32 [00:00<00:00, 28.07it/s]\n",
            "2024-01-06 17:09:45,228 [INFO] 28%|##8       | 9/32 [00:00<00:00, 27.53it/s]\n",
            "2024-01-06 17:09:45,338 [INFO] 38%|###7      | 12/32 [00:00<00:00, 27.42it/s]\n",
            "2024-01-06 17:09:45,444 [INFO] 47%|####6     | 15/32 [00:00<00:00, 27.68it/s]\n",
            "2024-01-06 17:09:45,552 [INFO] 56%|#####6    | 18/32 [00:00<00:00, 27.71it/s]\n",
            "2024-01-06 17:09:45,659 [INFO] 66%|######5   | 21/32 [00:00<00:00, 27.86it/s]\n",
            "2024-01-06 17:09:45,767 [INFO] 75%|#######5  | 24/32 [00:00<00:00, 27.85it/s]\n",
            "2024-01-06 17:09:45,874 [INFO] 84%|########4 | 27/32 [00:00<00:00, 27.89it/s]\n",
            "2024-01-06 17:09:45,980 [INFO] 94%|#########3| 30/32 [00:01<00:00, 28.00it/s]\n",
            "2024-01-06 17:09:46,053 [INFO] 100%|##########| 32/32 [00:01<00:00, 27.82it/s]\n",
            "2024-01-06 17:09:46,579 [INFO] running ZX: 512 planes of size (96, 512)\n",
            "2024-01-06 17:09:46,591 [INFO] 0%|          | 0/32 [00:00<?, ?it/s]\n",
            "2024-01-06 17:09:46,698 [INFO] 9%|9         | 3/32 [00:00<00:01, 28.29it/s]\n",
            "2024-01-06 17:09:46,806 [INFO] 19%|#8        | 6/32 [00:00<00:00, 27.94it/s]\n",
            "2024-01-06 17:09:46,912 [INFO] 28%|##8       | 9/32 [00:00<00:00, 28.08it/s]\n",
            "2024-01-06 17:09:47,021 [INFO] 38%|###7      | 12/32 [00:00<00:00, 27.92it/s]\n",
            "2024-01-06 17:09:47,128 [INFO] 47%|####6     | 15/32 [00:00<00:00, 27.88it/s]\n",
            "2024-01-06 17:09:47,238 [INFO] 56%|#####6    | 18/32 [00:00<00:00, 27.75it/s]\n",
            "2024-01-06 17:09:47,344 [INFO] 66%|######5   | 21/32 [00:00<00:00, 27.92it/s]\n",
            "2024-01-06 17:09:47,452 [INFO] 75%|#######5  | 24/32 [00:00<00:00, 27.88it/s]\n",
            "2024-01-06 17:09:47,560 [INFO] 84%|########4 | 27/32 [00:00<00:00, 27.84it/s]\n",
            "2024-01-06 17:09:47,668 [INFO] 94%|#########3| 30/32 [00:01<00:00, 27.77it/s]\n",
            "2024-01-06 17:09:47,742 [INFO] 100%|##########| 32/32 [00:01<00:00, 27.83it/s]\n",
            "2024-01-06 17:09:59,300 [INFO] network run in 16.71s\n",
            "2024-01-06 17:10:15,553 [INFO] masks created in 16.25s\n",
            "2024-01-06 17:10:16,787 [INFO] >>>> TOTAL TIME 34.31 sec\n",
            "running cellpose 2D + stitching masks\n",
            "2024-01-06 17:10:16,811 [INFO] ~~~ FINDING MASKS ~~~\n",
            "2024-01-06 17:10:16,871 [INFO] multi-stack tiff read in as having 96 planes 1 channels\n",
            "2024-01-06 17:10:16,927 [INFO] 0%|          | 0/96 [00:00<?, ?it/s]\n",
            "2024-01-06 17:10:17,039 [INFO] 4%|4         | 4/96 [00:00<00:02, 36.06it/s]\n",
            "2024-01-06 17:10:17,152 [INFO] 8%|8         | 8/96 [00:00<00:02, 35.71it/s]\n",
            "2024-01-06 17:10:17,264 [INFO] 12%|#2        | 12/96 [00:00<00:02, 35.62it/s]\n",
            "2024-01-06 17:10:17,374 [INFO] 17%|#6        | 16/96 [00:00<00:02, 35.94it/s]\n",
            "2024-01-06 17:10:17,482 [INFO] 21%|##        | 20/96 [00:00<00:02, 36.36it/s]\n",
            "2024-01-06 17:10:17,590 [INFO] 25%|##5       | 24/96 [00:00<00:01, 36.58it/s]\n",
            "2024-01-06 17:10:17,695 [INFO] 29%|##9       | 28/96 [00:00<00:01, 37.06it/s]\n",
            "2024-01-06 17:10:17,798 [INFO] 33%|###3      | 32/96 [00:00<00:01, 37.54it/s]\n",
            "2024-01-06 17:10:17,901 [INFO] 38%|###7      | 36/96 [00:00<00:01, 37.94it/s]\n",
            "2024-01-06 17:10:18,006 [INFO] 42%|####1     | 40/96 [00:01<00:01, 38.08it/s]\n",
            "2024-01-06 17:10:18,109 [INFO] 46%|####5     | 44/96 [00:01<00:01, 38.25it/s]\n",
            "2024-01-06 17:10:18,214 [INFO] 50%|#####     | 48/96 [00:01<00:01, 38.20it/s]\n",
            "2024-01-06 17:10:18,316 [INFO] 54%|#####4    | 52/96 [00:01<00:01, 38.53it/s]\n",
            "2024-01-06 17:10:18,417 [INFO] 58%|#####8    | 56/96 [00:01<00:01, 38.90it/s]\n",
            "2024-01-06 17:10:18,519 [INFO] 62%|######2   | 60/96 [00:01<00:00, 38.98it/s]\n",
            "2024-01-06 17:10:18,624 [INFO] 67%|######6   | 64/96 [00:01<00:00, 38.63it/s]\n",
            "2024-01-06 17:10:18,732 [INFO] 71%|#######   | 68/96 [00:01<00:00, 38.13it/s]\n",
            "2024-01-06 17:10:18,840 [INFO] 75%|#######5  | 72/96 [00:01<00:00, 37.85it/s]\n",
            "2024-01-06 17:10:18,948 [INFO] 79%|#######9  | 76/96 [00:02<00:00, 37.58it/s]\n",
            "2024-01-06 17:10:19,060 [INFO] 83%|########3 | 80/96 [00:02<00:00, 36.98it/s]\n",
            "2024-01-06 17:10:19,166 [INFO] 88%|########7 | 84/96 [00:02<00:00, 37.19it/s]\n",
            "2024-01-06 17:10:19,277 [INFO] 92%|#########1| 88/96 [00:02<00:00, 36.88it/s]\n",
            "2024-01-06 17:10:19,383 [INFO] 96%|#########5| 92/96 [00:02<00:00, 37.16it/s]\n",
            "2024-01-06 17:10:19,488 [INFO] 100%|##########| 96/96 [00:02<00:00, 37.45it/s]\n",
            "2024-01-06 17:10:19,488 [INFO] 100%|##########| 96/96 [00:02<00:00, 37.50it/s]\n",
            "2024-01-06 17:10:19,488 [INFO] network run in 2.56s\n",
            "2024-01-06 17:10:32,285 [INFO] stitching 96 planes using stitch_threshold=0.500 to make 3D masks\n",
            "2024-01-06 17:10:32,690 [INFO] masks created in 13.20s\n",
            "2024-01-06 17:10:33,809 [INFO] >>>> TOTAL TIME 17.00 sec\n",
            "running cellpose 2D slice flows => masks\n",
            "2024-01-06 17:10:33,850 [INFO] ~~~ FINDING MASKS ~~~\n",
            "2024-01-06 17:10:33,901 [INFO] multi-stack tiff read in as having 96 planes 1 channels\n",
            "2024-01-06 17:10:34,797 [INFO] running YX: 96 planes of size (512, 512)\n",
            "2024-01-06 17:10:34,805 [INFO] 0%|          | 0/12 [00:00<?, ?it/s]\n",
            "2024-01-06 17:10:34,999 [INFO] 17%|#6        | 2/12 [00:00<00:00, 10.32it/s]\n",
            "2024-01-06 17:10:35,200 [INFO] 33%|###3      | 4/12 [00:00<00:00, 10.11it/s]\n",
            "2024-01-06 17:10:35,407 [INFO] 50%|#####     | 6/12 [00:00<00:00,  9.89it/s]\n",
            "2024-01-06 17:10:35,511 [INFO] 58%|#####8    | 7/12 [00:00<00:00,  9.84it/s]\n",
            "2024-01-06 17:10:35,615 [INFO] 67%|######6   | 8/12 [00:00<00:00,  9.77it/s]\n",
            "2024-01-06 17:10:35,719 [INFO] 75%|#######5  | 9/12 [00:00<00:00,  9.73it/s]\n",
            "2024-01-06 17:10:35,823 [INFO] 83%|########3 | 10/12 [00:01<00:00,  9.70it/s]\n",
            "2024-01-06 17:10:35,926 [INFO] 92%|#########1| 11/12 [00:01<00:00,  9.70it/s]\n",
            "2024-01-06 17:10:36,030 [INFO] 100%|##########| 12/12 [00:01<00:00,  9.67it/s]\n",
            "2024-01-06 17:10:36,030 [INFO] 100%|##########| 12/12 [00:01<00:00,  9.79it/s]\n",
            "2024-01-06 17:10:36,256 [INFO] running ZY: 512 planes of size (96, 512)\n",
            "2024-01-06 17:10:36,265 [INFO] 0%|          | 0/32 [00:00<?, ?it/s]\n",
            "2024-01-06 17:10:36,368 [INFO] 9%|9         | 3/32 [00:00<00:00, 29.32it/s]\n",
            "2024-01-06 17:10:36,468 [INFO] 19%|#8        | 6/32 [00:00<00:00, 29.66it/s]\n",
            "2024-01-06 17:10:36,568 [INFO] 28%|##8       | 9/32 [00:00<00:00, 29.78it/s]\n",
            "2024-01-06 17:10:36,668 [INFO] 38%|###7      | 12/32 [00:00<00:00, 29.86it/s]\n",
            "2024-01-06 17:10:36,804 [INFO] 50%|#####     | 16/32 [00:00<00:00, 29.75it/s]\n",
            "2024-01-06 17:10:36,905 [INFO] 59%|#####9    | 19/32 [00:00<00:00, 29.71it/s]\n",
            "2024-01-06 17:10:37,007 [INFO] 69%|######8   | 22/32 [00:00<00:00, 29.57it/s]\n",
            "2024-01-06 17:10:37,142 [INFO] 81%|########1 | 26/32 [00:00<00:00, 29.63it/s]\n",
            "2024-01-06 17:10:37,242 [INFO] 91%|######### | 29/32 [00:00<00:00, 29.70it/s]\n",
            "2024-01-06 17:10:37,344 [INFO] 100%|##########| 32/32 [00:01<00:00, 29.64it/s]\n",
            "2024-01-06 17:10:37,345 [INFO] 100%|##########| 32/32 [00:01<00:00, 29.65it/s]\n",
            "2024-01-06 17:10:37,825 [INFO] running ZX: 512 planes of size (96, 512)\n",
            "2024-01-06 17:10:37,834 [INFO] 0%|          | 0/32 [00:00<?, ?it/s]\n",
            "2024-01-06 17:10:37,967 [INFO] 12%|#2        | 4/32 [00:00<00:00, 30.26it/s]\n",
            "2024-01-06 17:10:38,100 [INFO] 25%|##5       | 8/32 [00:00<00:00, 30.15it/s]\n",
            "2024-01-06 17:10:38,233 [INFO] 38%|###7      | 12/32 [00:00<00:00, 30.11it/s]\n",
            "2024-01-06 17:10:38,368 [INFO] 50%|#####     | 16/32 [00:00<00:00, 29.95it/s]\n",
            "2024-01-06 17:10:38,500 [INFO] 62%|######2   | 20/32 [00:00<00:00, 30.01it/s]\n",
            "2024-01-06 17:10:38,633 [INFO] 75%|#######5  | 24/32 [00:00<00:00, 30.04it/s]\n",
            "2024-01-06 17:10:38,766 [INFO] 88%|########7 | 28/32 [00:00<00:00, 30.07it/s]\n",
            "2024-01-06 17:10:38,902 [INFO] 100%|##########| 32/32 [00:01<00:00, 29.90it/s]\n",
            "2024-01-06 17:10:38,902 [INFO] 100%|##########| 32/32 [00:01<00:00, 29.98it/s]\n",
            "2024-01-06 17:10:50,597 [INFO] network run in 16.64s\n",
            "2024-01-06 17:11:21,982 [INFO] masks created in 31.38s\n",
            "2024-01-06 17:11:23,183 [INFO] >>>> TOTAL TIME 49.33 sec\n",
            "running cellpose 2D + stitching masks\n",
            "2024-01-06 17:11:23,206 [INFO] ~~~ FINDING MASKS ~~~\n",
            "2024-01-06 17:11:23,265 [INFO] multi-stack tiff read in as having 96 planes 1 channels\n",
            "2024-01-06 17:11:23,313 [INFO] 0%|          | 0/96 [00:00<?, ?it/s]\n",
            "2024-01-06 17:11:23,432 [INFO] 4%|4         | 4/96 [00:00<00:02, 33.63it/s]\n",
            "2024-01-06 17:11:23,546 [INFO] 8%|8         | 8/96 [00:00<00:02, 34.63it/s]\n",
            "2024-01-06 17:11:23,654 [INFO] 12%|#2        | 12/96 [00:00<00:02, 35.64it/s]\n",
            "2024-01-06 17:11:23,759 [INFO] 17%|#6        | 16/96 [00:00<00:02, 36.61it/s]\n",
            "2024-01-06 17:11:23,860 [INFO] 21%|##        | 20/96 [00:00<00:02, 37.57it/s]\n",
            "2024-01-06 17:11:23,961 [INFO] 25%|##5       | 24/96 [00:00<00:01, 38.31it/s]\n",
            "2024-01-06 17:11:24,066 [INFO] 29%|##9       | 28/96 [00:00<00:01, 38.13it/s]\n",
            "2024-01-06 17:11:24,171 [INFO] 33%|###3      | 32/96 [00:00<00:01, 38.13it/s]\n",
            "2024-01-06 17:11:24,276 [INFO] 38%|###7      | 36/96 [00:00<00:01, 38.14it/s]\n",
            "2024-01-06 17:11:24,379 [INFO] 42%|####1     | 40/96 [00:01<00:01, 38.33it/s]\n",
            "2024-01-06 17:11:24,481 [INFO] 46%|####5     | 44/96 [00:01<00:01, 38.62it/s]\n",
            "2024-01-06 17:11:24,582 [INFO] 50%|#####     | 48/96 [00:01<00:01, 38.92it/s]\n",
            "2024-01-06 17:11:24,684 [INFO] 54%|#####4    | 52/96 [00:01<00:01, 38.99it/s]\n",
            "2024-01-06 17:11:24,788 [INFO] 58%|#####8    | 56/96 [00:01<00:01, 38.88it/s]\n",
            "2024-01-06 17:11:24,894 [INFO] 62%|######2   | 60/96 [00:01<00:00, 38.55it/s]\n",
            "2024-01-06 17:11:24,999 [INFO] 67%|######6   | 64/96 [00:01<00:00, 38.37it/s]\n",
            "2024-01-06 17:11:25,104 [INFO] 71%|#######   | 68/96 [00:01<00:00, 38.26it/s]\n",
            "2024-01-06 17:11:25,208 [INFO] 75%|#######5  | 72/96 [00:01<00:00, 38.31it/s]\n",
            "2024-01-06 17:11:25,311 [INFO] 79%|#######9  | 76/96 [00:01<00:00, 38.53it/s]\n",
            "2024-01-06 17:11:25,418 [INFO] 83%|########3 | 80/96 [00:02<00:00, 38.21it/s]\n",
            "2024-01-06 17:11:25,527 [INFO] 88%|########7 | 84/96 [00:02<00:00, 37.73it/s]\n",
            "2024-01-06 17:11:25,634 [INFO] 92%|#########1| 88/96 [00:02<00:00, 37.61it/s]\n",
            "2024-01-06 17:11:25,743 [INFO] 96%|#########5| 92/96 [00:02<00:00, 37.34it/s]\n",
            "2024-01-06 17:11:25,847 [INFO] 100%|##########| 96/96 [00:02<00:00, 37.59it/s]\n",
            "2024-01-06 17:11:25,848 [INFO] 100%|##########| 96/96 [00:02<00:00, 37.88it/s]\n",
            "2024-01-06 17:11:25,848 [INFO] network run in 2.54s\n",
            "2024-01-06 17:11:40,827 [INFO] stitching 96 planes using stitch_threshold=0.500 to make 3D masks\n",
            "2024-01-06 17:11:41,543 [INFO] masks created in 15.69s\n",
            "2024-01-06 17:11:42,672 [INFO] >>>> TOTAL TIME 19.47 sec\n"
          ]
        }
      ],
      "source": [
        "\n",
        "from cellpose import models, metrics\n",
        "import tifffile\n",
        "from stardist_matching import matching\n",
        "\n",
        "\n",
        "# DEFINE CELLPOSE MODEL\n",
        "# model_type='cyto' or model_type='nuclei'\n",
        "cell_diameter = 70\n",
        "model = models.Cellpose(gpu=use_GPU, model_type='cyto')\n",
        "ap_algo1  = []\n",
        "ap_algo2  = []\n",
        "# test 3D stack\n",
        "for file,mask in zip(test_img_files,test_seg_files):\n",
        "# for file,mask in zip(valid_img_files,valid_seg_files):\n",
        "# for file,mask in zip(train_img_files,train_seg_files):\n",
        "    img = tifffile.imread(file)\n",
        "    gt = tifffile.imread(mask)\n",
        "    file_name=os.path.basename(file)\n",
        "\n",
        "\n",
        "    ### TWO WAYS TO RUN CELLPOSE IN 3D\n",
        "\n",
        "    # 1. computes flows from 2D slices and combines into 3D flows to create masks\n",
        "    skip_algorithm1 = False # algorithm 2 always show better results, ingore algorithm 1\n",
        "    if not skip_algorithm1:\n",
        "        print('running cellpose 2D slice flows => masks')\n",
        "        masks, flows, styles, _ = model.eval(img, channels=[0,0], diameter=cell_diameter, do_3D=True)\n",
        "\n",
        "        tifffile.imwrite(data_folder +'2d_cellpose_algo1/' + file_name.split('.')[0] + 'pred.tiff', masks)\n",
        "\n",
        "    # 2. computes masks in 2D slices and stitches masks in 3D based on mask overlap, algorithm 2 always better?\n",
        "    print('running cellpose 2D + stitching masks')\n",
        "    masks_stitched, flows_stitched, styles_stitched, _ = model.eval(img, channels=[0,0], diameter=cell_diameter, do_3D=False, stitch_threshold=0.5)\n",
        "    #average_precision returns [AP,TP,FP,FN]\n",
        "    # ap1 = metrics.average_precision(gt, masks,  threshold=[0.1,0.2,0.7])[0]\n",
        "    # ap2 = metrics.average_precision(gt, masks_stitched,threshold=[0.1,0.2,0.7])[0]\n",
        "\n",
        "    #calculate accuracy\n",
        "    # ap1 = matching(gt, masks).precision\n",
        "    # ap2 = matching(gt, masks_stitched).precision\n",
        "    # ap_algo1.append(ap1)\n",
        "    # ap_algo2.append(ap2)\n",
        "\n",
        "    \n",
        "    tifffile.imwrite(data_folder +'2d_cellpose_algo2/cellpose_' + file_name.split('.')[0] + '_pred.tiff', masks_stitched)\n",
        "    # break\n"
      ]
    },
    {
      "attachments": {},
      "cell_type": "markdown",
      "metadata": {},
      "source": [
        "# training"
      ]
    },
    {
      "cell_type": "code",
      "execution_count": 24,
      "metadata": {},
      "outputs": [
        {
          "name": "stdout",
          "output_type": "stream",
          "text": [
            "Default advanced parameters enabled\n"
          ]
        }
      ],
      "source": [
        "\n",
        "\n",
        "# model name and path\n",
        "#@markdown ###Name of the pretrained model to start from and new model name:\n",
        "from stardist_matching import matching\n",
        "from cellpose import models\n",
        "initial_model = \"cyto2\" #@param ['cyto','nuclei','tissuenet','livecell','cyto2','CP','CPx','TN1','TN2','TN3','LC1','LC2','LC3','LC4','scratch']\n",
        "# model_name = \"allen_2d\" #@param {type:\"string\"}\n",
        "# train_dir ='./allen_train/'\n",
        "model_name = f\"Nanolive_2d_fold{fold}\"\n",
        "# train_dir ='/data/download_data/colon_dataset/colon_30/colon_model/'\n",
        "# train_dir = '\"/home/xzhang/Projects/cellpose/Nanolive_mem_cellpose_data_v5_nor_1_99/\"'\n",
        "train_dir = data_folder\n",
        "# other parameters for training.\n",
        "#@markdown ###Training Parameters:\n",
        "#@markdown Number of epochs:\n",
        "n_epochs =  100#@param {type:\"number\"}\n",
        "\n",
        "Channel_to_use_for_training = \"Grayscale\" #@param [\"Grayscale\", \"Blue\", \"Green\", \"Red\"]\n",
        "\n",
        "# @markdown ###If you have a secondary channel that can be used for training, for instance nuclei, choose it here:\n",
        "\n",
        "# Second_training_channel= \"Red\" #@param [\"None\", \"Blue\", \"Green\", \"Red\"]\n",
        "\n",
        "\n",
        "#@markdown ###Advanced Parameters\n",
        "\n",
        "Use_Default_Advanced_Parameters = True #@param {type:\"boolean\"}\n",
        "#@markdown ###If not, please input:\n",
        "learning_rate = 0.1 #@param {type:\"number\"}\n",
        "weight_decay = 0.0001 #@param {type:\"number\"}\n",
        "\n",
        "if (Use_Default_Advanced_Parameters): \n",
        "  print(\"Default advanced parameters enabled\")\n",
        "  learning_rate = 0.1 \n",
        "  weight_decay = 0.0001\n",
        "  \n",
        "#here we check that no model with the same name already exist, if so delete\n",
        "model_path = train_dir + 'cellpose_models/'\n",
        "if os.path.exists(model_path+'/'+model_name):\n",
        "  print(\"!! WARNING: \"+model_name+\" already exists and will be deleted in the following cell !!\")\n",
        "  \n",
        "# if len(test_dir) == 0:\n",
        "  test_dir = None\n",
        "\n",
        "\n",
        "\n",
        "if initial_model=='scratch':\n",
        "  initial_model = 'None'\n",
        "\n",
        "\n",
        "\n"
      ]
    },
    {
      "cell_type": "code",
      "execution_count": 11,
      "metadata": {},
      "outputs": [
        {
          "data": {
            "text/plain": [
              "'/home/xzhang/Projects/cellpose'"
            ]
          },
          "execution_count": 11,
          "metadata": {},
          "output_type": "execute_result"
        }
      ],
      "source": [
        "pwd"
      ]
    },
    {
      "cell_type": "code",
      "execution_count": 25,
      "metadata": {},
      "outputs": [
        {
          "name": "stdout",
          "output_type": "stream",
          "text": [
            "2024-01-06 17:11:42,804 [INFO] >> cyto2 << model set to be used\n",
            "2024-01-06 17:11:42,805 [INFO] ** TORCH CUDA version installed and working. **\n",
            "2024-01-06 17:11:42,805 [INFO] >>>> using GPU\n",
            "2024-01-06 17:11:42,901 [INFO] >>>> model diam_mean =  30.000 (ROIs rescaled to this size during training)\n",
            "383 161\n",
            "train data shape (512, 512)\n",
            "2024-01-06 17:11:50,184 [INFO] computing flows for labels\n"
          ]
        },
        {
          "name": "stderr",
          "output_type": "stream",
          "text": [
            "100%|██████████| 383/383 [00:19<00:00, 19.19it/s]\n"
          ]
        },
        {
          "name": "stdout",
          "output_type": "stream",
          "text": [
            "2024-01-06 17:12:10,773 [INFO] computing flows for labels\n"
          ]
        },
        {
          "name": "stderr",
          "output_type": "stream",
          "text": [
            "100%|██████████| 161/161 [00:07<00:00, 22.81it/s]\n"
          ]
        },
        {
          "name": "stdout",
          "output_type": "stream",
          "text": [
            "2024-01-06 17:12:18,055 [WARNING] 80 train images with number of masks less than min_train_masks (5), removing from train set\n",
            "2024-01-06 17:12:19,147 [INFO] >>>> median diameter set to = 30\n",
            "2024-01-06 17:12:19,147 [INFO] >>>> mean of training label mask diameters (saved to model) 58.750\n",
            "2024-01-06 17:12:19,148 [INFO] >>>> training network with 2 channel input <<<<\n",
            "2024-01-06 17:12:19,148 [INFO] >>>> LR: 0.10000, batch_size: 8, weight_decay: 0.00010\n",
            "2024-01-06 17:12:19,148 [INFO] >>>> ntrain = 303, ntest = 161\n",
            "2024-01-06 17:12:19,148 [INFO] >>>> nimg_per_epoch = 303\n",
            "2024-01-06 17:12:24,029 [INFO] Epoch 0, Time  4.9s, Loss 1.5073, Loss Test 1.0452, LR 0.0000\n",
            "2024-01-06 17:12:28,000 [INFO] saving network parameters to /home/xzhang/Projects/cellpose/Nanolive_mem_cellpose_data_v5_nor_1_99/cellpose_models/models/Nanolive_2d_fold4\n",
            "2024-01-06 17:12:44,847 [INFO] Epoch 5, Time 25.7s, Loss 0.5665, Loss Test 0.2259, LR 0.0556\n",
            "2024-01-06 17:13:05,597 [INFO] Epoch 10, Time 46.4s, Loss 0.4300, Loss Test 0.2078, LR 0.1000\n",
            "2024-01-06 17:13:46,174 [INFO] Epoch 20, Time 87.0s, Loss 0.3712, Loss Test 0.2046, LR 0.1000\n",
            "2024-01-06 17:14:26,578 [INFO] Epoch 30, Time 127.4s, Loss 0.3239, Loss Test 0.2171, LR 0.1000\n",
            "2024-01-06 17:15:07,102 [INFO] Epoch 40, Time 168.0s, Loss 0.2975, Loss Test 0.1936, LR 0.1000\n",
            "2024-01-06 17:15:47,620 [INFO] Epoch 50, Time 208.5s, Loss 0.2757, Loss Test 0.2020, LR 0.1000\n",
            "2024-01-06 17:16:29,277 [INFO] Epoch 60, Time 250.1s, Loss 0.2621, Loss Test 0.1964, LR 0.1000\n",
            "2024-01-06 17:17:12,599 [INFO] Epoch 70, Time 293.5s, Loss 0.2539, Loss Test 0.1959, LR 0.1000\n",
            "2024-01-06 17:17:56,323 [INFO] Epoch 80, Time 337.2s, Loss 0.2373, Loss Test 0.2091, LR 0.1000\n",
            "2024-01-06 17:18:39,987 [INFO] Epoch 90, Time 380.8s, Loss 0.2307, Loss Test 0.1991, LR 0.1000\n",
            "2024-01-06 17:19:18,408 [INFO] saving network parameters to /home/xzhang/Projects/cellpose/Nanolive_mem_cellpose_data_v5_nor_1_99/cellpose_models/models/Nanolive_2d_fold4\n"
          ]
        }
      ],
      "source": [
        "  # start logger (to see training across epochs)\n",
        "# logger = io.logger_setup()\n",
        "\n",
        "# DEFINE CELLPOSE MODEL (without size model)\n",
        "# model already defined\n",
        "model = models.CellposeModel(gpu=use_GPU, model_type=initial_model)\n",
        "# model = models.Cellpose(gpu=use_GPU, model_type='nuclei')\n",
        "# set channels\n",
        "\n",
        "# get files\n",
        "#cellpose load all the training data at the same time\n",
        "train_data = []\n",
        "train_labels = []\n",
        "test_data = []\n",
        "test_labels = []\n",
        "\n",
        "for i in range(len(train_img_files)):\n",
        "# for i in range(1):\n",
        "        train_data_3d = tifffile.imread(train_img_files[i])\n",
        "        train_labels_3d = tifffile.imread(train_seg_files[i])\n",
        "        from skimage import measure\n",
        "        train_labels_3d =  measure.label(train_labels_3d)\n",
        "        #--------------use 2d slices to train the model----------------\n",
        "        # use the slice as training data if mask is not empty in the slice\n",
        "        train_img_idx = [idx for idx,slice in enumerate(train_labels_3d) if np.sum(slice)>1] \n",
        "\n",
        "        # print(train_img_idx)\n",
        "        train_data_3d = train_data_3d[train_img_idx]\n",
        "        train_labels_3d = train_labels_3d[train_img_idx]\n",
        "        for slice in train_data_3d:\n",
        "                train_data.append(slice)\n",
        "        for slice in train_labels_3d:\n",
        "                train_labels.append(slice)\n",
        "        # train_data.append([slice for slice in train_data_3d])\n",
        "        # train_labels.append([slice for slice in train_labels_3d])\n",
        "for i in range(len(valid_img_files)):\n",
        "# for i in range(1):       \n",
        "\n",
        "        test_data_3d = tifffile.imread(valid_img_files[i])\n",
        "        test_labels_3d = tifffile.imread(valid_seg_files[i])\n",
        "\n",
        "        test_img_idx = [idx for idx,slice in enumerate(test_labels_3d) if np.sum(slice)>1] \n",
        "\n",
        "        test_data_3d = test_data_3d[test_img_idx]\n",
        "        test_labels_3d = test_labels_3d[test_img_idx]\n",
        "\n",
        "        for slice in test_data_3d:\n",
        "                test_data.append(slice)\n",
        "        for slice in test_labels_3d:\n",
        "                test_labels.append(slice)\n",
        "        # test_data.append(slice for slice in test_data_3d)\n",
        "        # test_labels.append(slice for slice in test_labels_3d)\n",
        "#---------------------------------------------------------------\n",
        "# # \n",
        "print(len(train_data),len(test_data))\n",
        "print('train data shape',train_data[0].shape)\n",
        "# print(train_data[0].shape)\n",
        "# train_data = train_data[:8]\n",
        "# test_data = test_data[:8]\n",
        "# train_labels= train_labels[:8]\n",
        "# test_labels= test_labels[:8]\n",
        "new_model_path = model.train(train_data, train_labels, \n",
        "                              test_data=test_data,\n",
        "                              test_labels=test_labels,\n",
        "                              channels=[0,0], \n",
        "                        #       channels=[0], \n",
        "                              save_path=model_path, \n",
        "                              n_epochs=n_epochs,\n",
        "                              learning_rate=learning_rate, \n",
        "                              weight_decay=weight_decay, \n",
        "                              nimg_per_epoch=8,\n",
        "                              model_name=model_name)\n",
        "\n",
        "# diameter of labels in training images\n",
        "diam_labels = model.diam_labels.copy()"
      ]
    },
    {
      "cell_type": "code",
      "execution_count": 15,
      "metadata": {},
      "outputs": [
        {
          "name": "stdout",
          "output_type": "stream",
          "text": [
            "/home/xzhang/Projects/cellpose/Nanolive_mem_cellpose_data_v5_nor_1_99/cellpose_models/models/Nanolive_2d\n"
          ]
        }
      ],
      "source": [
        "print(new_model_path)"
      ]
    },
    {
      "attachments": {},
      "cell_type": "markdown",
      "metadata": {
        "id": "acPatqlKt7EI"
      },
      "source": [
        "## run cellpose 2D after training\n",
        "\n",
        "There are two ways to run cellpose in 3D, this cell shows both, choose which one works best for you.\n",
        "\n",
        "First way: computes flows from 2D slices and combines into 3D flows to create masks\n",
        "\n"
      ]
    },
    {
      "cell_type": "code",
      "execution_count": null,
      "metadata": {},
      "outputs": [],
      "source": []
    },
    {
      "attachments": {},
      "cell_type": "markdown",
      "metadata": {},
      "source": [
        "## test runing cellpose 2D with different parameters"
      ]
    },
    {
      "cell_type": "code",
      "execution_count": 26,
      "metadata": {
        "colab": {
          "base_uri": "https://localhost:8080/"
        },
        "id": "92RStllFN2Ek",
        "outputId": "7c164c5e-a427-4dfc-bba0-a274b660b49b"
      },
      "outputs": [
        {
          "name": "stdout",
          "output_type": "stream",
          "text": [
            "2024-01-06 17:19:18,574 [INFO] >>>> loading model /home/xzhang/Projects/cellpose/Nanolive_mem_cellpose_data_v5_nor_1_99/cellpose_models/models/Nanolive_2d_fold4\n",
            "2024-01-06 17:19:18,575 [INFO] ** TORCH CUDA version installed and working. **\n",
            "2024-01-06 17:19:18,576 [INFO] >>>> using GPU\n",
            "2024-01-06 17:19:18,681 [INFO] >>>> model diam_mean =  30.000 (ROIs rescaled to this size during training)\n",
            "2024-01-06 17:19:18,682 [INFO] >>>> model diam_labels =  58.750 (mean diameter of training ROIs)\n",
            "running cellpose 2D + stitching masks\n",
            "2024-01-06 17:19:18,752 [INFO] multi-stack tiff read in as having 96 planes 1 channels\n",
            "2024-01-06 17:19:18,809 [INFO] 0%|          | 0/96 [00:00<?, ?it/s]\n",
            "2024-01-06 17:19:18,925 [INFO] 6%|6         | 6/96 [00:00<00:01, 51.91it/s]\n",
            "2024-01-06 17:19:19,038 [INFO] 12%|#2        | 12/96 [00:00<00:01, 52.42it/s]\n",
            "2024-01-06 17:19:19,152 [INFO] 19%|#8        | 18/96 [00:00<00:01, 52.68it/s]\n",
            "2024-01-06 17:19:19,264 [INFO] 25%|##5       | 24/96 [00:00<00:01, 53.03it/s]\n",
            "2024-01-06 17:19:19,371 [INFO] 31%|###1      | 30/96 [00:00<00:01, 53.99it/s]\n",
            "2024-01-06 17:19:19,477 [INFO] 38%|###7      | 36/96 [00:00<00:01, 54.91it/s]\n",
            "2024-01-06 17:19:19,582 [INFO] 44%|####3     | 42/96 [00:00<00:00, 55.61it/s]\n",
            "2024-01-06 17:19:19,690 [INFO] 50%|#####     | 48/96 [00:00<00:00, 55.59it/s]\n",
            "2024-01-06 17:19:19,794 [INFO] 56%|#####6    | 54/96 [00:00<00:00, 56.17it/s]\n",
            "2024-01-06 17:19:19,899 [INFO] 62%|######2   | 60/96 [00:01<00:00, 56.55it/s]\n",
            "2024-01-06 17:19:20,009 [INFO] 69%|######8   | 66/96 [00:01<00:00, 55.87it/s]\n",
            "2024-01-06 17:19:20,122 [INFO] 75%|#######5  | 72/96 [00:01<00:00, 55.06it/s]\n",
            "2024-01-06 17:19:20,235 [INFO] 81%|########1 | 78/96 [00:01<00:00, 54.41it/s]\n",
            "2024-01-06 17:19:20,348 [INFO] 88%|########7 | 84/96 [00:01<00:00, 53.96it/s]\n",
            "2024-01-06 17:19:20,465 [INFO] 94%|#########3| 90/96 [00:01<00:00, 53.11it/s]\n",
            "2024-01-06 17:19:20,577 [INFO] 100%|##########| 96/96 [00:01<00:00, 53.29it/s]\n",
            "2024-01-06 17:19:20,578 [INFO] 100%|##########| 96/96 [00:01<00:00, 54.28it/s]\n",
            "2024-01-06 17:19:20,578 [INFO] network run in 1.77s\n",
            "2024-01-06 17:19:20,578 [INFO] No cell pixels found.\n",
            "2024-01-06 17:19:20,579 [INFO] No cell pixels found.\n",
            "2024-01-06 17:19:20,579 [INFO] No cell pixels found.\n",
            "2024-01-06 17:19:20,580 [INFO] No cell pixels found.\n",
            "2024-01-06 17:19:20,580 [INFO] No cell pixels found.\n",
            "2024-01-06 17:19:20,581 [INFO] No cell pixels found.\n",
            "2024-01-06 17:19:20,581 [INFO] No cell pixels found.\n",
            "2024-01-06 17:19:20,582 [INFO] No cell pixels found.\n",
            "2024-01-06 17:19:20,582 [INFO] No cell pixels found.\n",
            "2024-01-06 17:19:28,052 [INFO] No cell pixels found.\n",
            "2024-01-06 17:19:28,053 [INFO] No cell pixels found.\n",
            "2024-01-06 17:19:28,053 [INFO] No cell pixels found.\n",
            "2024-01-06 17:19:28,054 [INFO] No cell pixels found.\n",
            "2024-01-06 17:19:28,054 [INFO] No cell pixels found.\n",
            "2024-01-06 17:19:28,055 [INFO] No cell pixels found.\n",
            "2024-01-06 17:19:28,055 [INFO] No cell pixels found.\n",
            "2024-01-06 17:19:28,056 [INFO] No cell pixels found.\n",
            "2024-01-06 17:19:28,056 [INFO] No cell pixels found.\n",
            "2024-01-06 17:19:28,057 [INFO] No cell pixels found.\n",
            "2024-01-06 17:19:28,057 [INFO] No cell pixels found.\n",
            "2024-01-06 17:19:28,058 [INFO] No cell pixels found.\n",
            "2024-01-06 17:19:28,058 [INFO] No cell pixels found.\n",
            "2024-01-06 17:19:28,059 [INFO] No cell pixels found.\n",
            "2024-01-06 17:19:28,059 [INFO] No cell pixels found.\n",
            "2024-01-06 17:19:28,060 [INFO] No cell pixels found.\n",
            "2024-01-06 17:19:28,060 [INFO] No cell pixels found.\n",
            "2024-01-06 17:19:28,061 [INFO] No cell pixels found.\n",
            "2024-01-06 17:19:28,061 [INFO] No cell pixels found.\n",
            "2024-01-06 17:19:28,061 [INFO] No cell pixels found.\n",
            "2024-01-06 17:19:28,062 [INFO] No cell pixels found.\n",
            "2024-01-06 17:19:28,062 [INFO] No cell pixels found.\n",
            "2024-01-06 17:19:28,063 [INFO] No cell pixels found.\n",
            "2024-01-06 17:19:28,063 [INFO] No cell pixels found.\n",
            "2024-01-06 17:19:28,064 [INFO] No cell pixels found.\n",
            "2024-01-06 17:19:28,064 [INFO] No cell pixels found.\n",
            "2024-01-06 17:19:28,065 [INFO] No cell pixels found.\n",
            "2024-01-06 17:19:28,094 [INFO] stitching 96 planes using stitch_threshold=0.200 to make 3D masks\n",
            "2024-01-06 17:19:28,462 [INFO] masks created in 7.88s\n",
            "running cellpose 2D + stitching masks\n",
            "2024-01-06 17:19:29,703 [INFO] multi-stack tiff read in as having 96 planes 1 channels\n",
            "2024-01-06 17:19:29,753 [INFO] 0%|          | 0/96 [00:00<?, ?it/s]\n",
            "2024-01-06 17:19:29,862 [INFO] 5%|5         | 5/96 [00:00<00:01, 46.37it/s]\n",
            "2024-01-06 17:19:29,980 [INFO] 11%|#1        | 11/96 [00:00<00:01, 48.93it/s]\n",
            "2024-01-06 17:19:30,093 [INFO] 18%|#7        | 17/96 [00:00<00:01, 50.90it/s]\n",
            "2024-01-06 17:19:30,201 [INFO] 24%|##3       | 23/96 [00:00<00:01, 52.71it/s]\n",
            "2024-01-06 17:19:30,314 [INFO] 30%|###       | 29/96 [00:00<00:01, 52.76it/s]\n",
            "2024-01-06 17:19:30,429 [INFO] 36%|###6      | 35/96 [00:00<00:01, 52.61it/s]\n",
            "2024-01-06 17:19:30,540 [INFO] 43%|####2     | 41/96 [00:00<00:01, 53.12it/s]\n",
            "2024-01-06 17:19:30,648 [INFO] 49%|####8     | 47/96 [00:00<00:00, 53.84it/s]\n",
            "2024-01-06 17:19:30,758 [INFO] 55%|#####5    | 53/96 [00:01<00:00, 54.13it/s]\n",
            "2024-01-06 17:19:30,870 [INFO] 61%|######1   | 59/96 [00:01<00:00, 53.85it/s]\n",
            "2024-01-06 17:19:30,987 [INFO] 68%|######7   | 65/96 [00:01<00:00, 53.06it/s]\n",
            "2024-01-06 17:19:31,102 [INFO] 74%|#######3  | 71/96 [00:01<00:00, 52.84it/s]\n",
            "2024-01-06 17:19:31,210 [INFO] 80%|########  | 77/96 [00:01<00:00, 53.56it/s]\n",
            "2024-01-06 17:19:31,327 [INFO] 86%|########6 | 83/96 [00:01<00:00, 52.90it/s]\n",
            "2024-01-06 17:19:31,444 [INFO] 93%|#########2| 89/96 [00:01<00:00, 52.45it/s]\n",
            "2024-01-06 17:19:31,563 [INFO] 99%|#########8| 95/96 [00:01<00:00, 51.79it/s]\n",
            "2024-01-06 17:19:31,582 [INFO] 100%|##########| 96/96 [00:01<00:00, 52.52it/s]\n",
            "2024-01-06 17:19:31,582 [INFO] network run in 1.83s\n",
            "2024-01-06 17:19:31,583 [INFO] No cell pixels found.\n",
            "2024-01-06 17:19:31,583 [INFO] No cell pixels found.\n",
            "2024-01-06 17:19:31,584 [INFO] No cell pixels found.\n",
            "2024-01-06 17:19:31,584 [INFO] No cell pixels found.\n",
            "2024-01-06 17:19:31,585 [INFO] No cell pixels found.\n",
            "2024-01-06 17:19:31,585 [INFO] No cell pixels found.\n",
            "2024-01-06 17:19:31,902 [INFO] No cell pixels found.\n",
            "2024-01-06 17:19:31,903 [INFO] No cell pixels found.\n",
            "2024-01-06 17:19:31,904 [INFO] No cell pixels found.\n",
            "2024-01-06 17:19:31,904 [INFO] No cell pixels found.\n",
            "2024-01-06 17:19:31,905 [INFO] No cell pixels found.\n",
            "2024-01-06 17:19:31,905 [INFO] No cell pixels found.\n",
            "2024-01-06 17:19:31,908 [WARNING] WARNING: no mask pixels found\n",
            "2024-01-06 17:19:31,908 [INFO] No cell pixels found.\n",
            "2024-01-06 17:19:40,311 [INFO] No cell pixels found.\n",
            "2024-01-06 17:19:40,312 [INFO] No cell pixels found.\n",
            "2024-01-06 17:19:40,312 [INFO] No cell pixels found.\n",
            "2024-01-06 17:19:40,313 [INFO] No cell pixels found.\n",
            "2024-01-06 17:19:40,313 [INFO] No cell pixels found.\n",
            "2024-01-06 17:19:40,314 [INFO] No cell pixels found.\n",
            "2024-01-06 17:19:40,314 [INFO] No cell pixels found.\n",
            "2024-01-06 17:19:40,315 [INFO] No cell pixels found.\n",
            "2024-01-06 17:19:40,315 [INFO] No cell pixels found.\n",
            "2024-01-06 17:19:40,316 [INFO] No cell pixels found.\n",
            "2024-01-06 17:19:40,316 [INFO] No cell pixels found.\n",
            "2024-01-06 17:19:40,317 [INFO] No cell pixels found.\n",
            "2024-01-06 17:19:40,317 [INFO] No cell pixels found.\n",
            "2024-01-06 17:19:40,318 [INFO] No cell pixels found.\n",
            "2024-01-06 17:19:40,318 [INFO] No cell pixels found.\n",
            "2024-01-06 17:19:40,319 [INFO] No cell pixels found.\n",
            "2024-01-06 17:19:40,319 [INFO] No cell pixels found.\n",
            "2024-01-06 17:19:40,320 [INFO] No cell pixels found.\n",
            "2024-01-06 17:19:40,320 [INFO] No cell pixels found.\n",
            "2024-01-06 17:19:40,321 [INFO] No cell pixels found.\n",
            "2024-01-06 17:19:40,350 [INFO] stitching 96 planes using stitch_threshold=0.200 to make 3D masks\n",
            "2024-01-06 17:19:40,871 [INFO] masks created in 9.29s\n"
          ]
        }
      ],
      "source": [
        "from cellpose import models, metrics\n",
        "import tifffile\n",
        "from stardist_matching import matching\n",
        "\n",
        "# # new_model_path='./allen_train/models/allen_2d'\n",
        "# new_model_path='/home/xzhang/Projects/cellpose/Nanolive_mem_cellpose_data_v5_nor_1_99/cellpose_models/models/Nanolive_2d'\n",
        "\n",
        "# DEFINE CELLPOSE MODEL\n",
        "# model_type='cyto' or model_type='nuclei'\n",
        "# model = models.Cellpose(gpu=use_GPU, model_type='nuclei')\n",
        "model = models.CellposeModel(gpu=use_GPU, pretrained_model = new_model_path)\n",
        "\n",
        "ap_algo1_after_training  = []\n",
        "ap_algo2_after_training  = []\n",
        "# test 3D stack\n",
        "# dia_list = [125,50,75,100,25]\n",
        "# thre_list = [0.5, 0.075,0.125, 0.25,0.375,0.625,0.75]\n",
        "\n",
        "# dia_list = [60,75,90]\n",
        "# thre_list = [0.1,0.20,0.3]\n",
        "dia_list = [75]\n",
        "thre_list = [0.20]\n",
        "for thre in thre_list:\n",
        "    for dia in dia_list:\n",
        " \n",
        "        for file,mask in zip(test_img_files,test_seg_files):\n",
        "            img = tifffile.imread(file)\n",
        "            gt = tifffile.imread(mask)\n",
        "            file_name=os.path.basename(file)\n",
        "            # img_3D = imgs[-1]\n",
        "\n",
        "            # * with 3D you have to set the diameter manually (no auto detect) *\n",
        "\n",
        "            ### TWO WAYS TO RUN CELLPOSE IN 3D\n",
        "\n",
        "            # 1. computes flows from 2D slices and combines into 3D flows to create masks\n",
        "            # print('running cellpose 2D slice flows => masks')\n",
        "            skip_algorithm1 =True\n",
        "            if not skip_algorithm1:  # apply algorithm 1 ???\n",
        "                masks_after_training, flows, styles= model.eval(img, channels=[0,0], diameter=dia, do_3D=True)\n",
        "                tifffile.imwrite(data_folder +'results_2d_cellpose_algo1_after_training/mask_' + file_name.split('.')[0] +'_thre_'+str(thre)+ '_dia_' + str(dia) + '.tiff', masks_after_training)\n",
        "                tifffile.imwrite(data_folder +'results_2d_cellpose_algo1_after_training/flows_' + file_name.split('.')[0] +'_thre_'+str(thre)+ '_dia_' + str(dia) + '.tiff', flows[1])\n",
        "\n",
        "            # 2. computes masks in 2D slices and stitches masks in 3D based on mask overlap\n",
        "            print('running cellpose 2D + stitching masks')\n",
        "            masks_stitched_after_training, flows_stitched, styles_stitched= model.eval(img, channels=[0,0], diameter=dia, do_3D=False, stitch_threshold=thre)\n",
        "            #average_precision returns [AP,TP,FP,FN]\n",
        "            # ap1 = metrics.average_precision(gt, masks_after_training)[0]\n",
        "            # ap2 = metrics.average_precision(gt, masks_stitched_after_training)[0]\n",
        "            \n",
        "            #calculate accuracy for each algorithm\n",
        "            # ap1 = matching(gt, masks_after_training).precision\n",
        "            # ap2 = matching(gt, masks_stitched_after_training).precision\n",
        "            # ap_algo1_after_training.append(ap1)\n",
        "            # ap_algo2_after_training.append(ap2)\n",
        "            \n",
        "            # for i in range(1,2):  #save flows??? : flow[1] = xy flow, flow[2] =cell prob, flow[3]final pixel location\n",
        "            #     tifffile.imwrite(data_folder +'results_2d_cellpose_algo2_after_training/flows_'+str(i) + file_name.split('.')[0] +'_thre_'+str(thre)+ '_dia_' + str(dia) + '.tiff', flows_stitched[i])\n",
        "\n",
        "            tifffile.imwrite(data_folder +'results_2d_cellpose_algo2_after_training/mask_' + file_name.split('.')[0] +'_thre_'+str(thre)+ '_dia_' + str(dia) + '.tiff', masks_stitched_after_training)\n",
        "        \n"
      ]
    },
    {
      "cell_type": "code",
      "execution_count": 24,
      "metadata": {},
      "outputs": [
        {
          "name": "stdout",
          "output_type": "stream",
          "text": [
            "4 (129, 1030, 1300, 3) (2, 129, 1030, 1300) (129, 1030, 1300) (129, 2, 1030, 1300)\n",
            "(129, 1030, 1300)\n"
          ]
        }
      ],
      "source": [
        "# print(len(flows_stitched),flows_stitched[0].shape,flows_stitched[1].shape,flows_stitched[2].shape,flows_stitched[3].shape)\n",
        "# print(masks_stitched_after_training.shape)\n",
        "# # print(len(flows))\n",
        "# # for i in range(4):\n",
        "# #     print(flows[i].shape)"
      ]
    },
    {
      "attachments": {},
      "cell_type": "markdown",
      "metadata": {},
      "source": [
        "# test which cell size / stitching threshold combination gives the best result"
      ]
    },
    {
      "cell_type": "code",
      "execution_count": 21,
      "metadata": {},
      "outputs": [
        {
          "name": "stdout",
          "output_type": "stream",
          "text": [
            "2\n",
            "2\n",
            "2\n",
            "2\n",
            "2\n",
            "2\n",
            "2\n",
            "2\n",
            "2\n",
            "2\n"
          ]
        }
      ],
      "source": [
        "import pandas as pd\n",
        "from skimage import measure\n",
        "output_2d = pd.DataFrame()\n",
        "\n",
        "\n",
        "N_thresholds=2\n",
        "\n",
        "# thre_list = [0.5, 0.25,0.375,0.625,0.75]\n",
        "thre_list =  [0.1,0.20,0.3]\n",
        "# dia_list = [25,20,10]\n",
        "dia_list = [60,75,90]\n",
        "# iou_thresholds = np.linspace(0.5,1,N_thresholds)\n",
        "iou_thresholds = 0.5\n",
        "#-0--------------------------------\n",
        "seg_files = natsorted(glob.glob(data_folder + 'labels/*.tif*'))\n",
        "test_seg_files = [f for i,f in enumerate(seg_files) if i%5 == fold]\n",
        "gt_files = test_seg_files\n",
        "print(len(gt_files))\n",
        "for dia in dia_list:\n",
        "    for thre in thre_list:\n",
        "        results_2d_cellpose_path =  data_folder + '/results_2d_cellpose_algo2_after_training/*_thre_' +str(thre) + '_dia_'+str(dia) +'.tiff'\n",
        "        results_2d_cellpose = natsorted(glob.glob(results_2d_cellpose_path))\n",
        "        print(len(results_2d_cellpose))\n",
        "        for file_idx in range(len(results_2d_cellpose)):\n",
        "            img_2d  = tifffile.imread(results_2d_cellpose[file_idx])\n",
        "            gt_img = tifffile.imread(gt_files[file_idx])\n",
        "            gt_img = measure.label(gt_img,background=0)\n",
        "            res_match = matching(gt_img,img_2d,  thresh=0.5)\n",
        "\n",
        "\n",
        "            df_temp = pd.DataFrame([res_match])\n",
        "            df_temp['img_id'] = str(gt_files[i].split('/')[-1])\n",
        "            df_temp['thre'] = thre\n",
        "            df_temp['dia'] =dia\n",
        "\n",
        "            output_2d = pd.concat([output_2d,df_temp])\n",
        "\n",
        "        # print(len(files))"
      ]
    },
    {
      "cell_type": "code",
      "execution_count": 22,
      "metadata": {},
      "outputs": [
        {
          "data": {
            "text/html": [
              "<div>\n",
              "<style scoped>\n",
              "    .dataframe tbody tr th:only-of-type {\n",
              "        vertical-align: middle;\n",
              "    }\n",
              "\n",
              "    .dataframe tbody tr th {\n",
              "        vertical-align: top;\n",
              "    }\n",
              "\n",
              "    .dataframe thead th {\n",
              "        text-align: right;\n",
              "    }\n",
              "</style>\n",
              "<table border=\"1\" class=\"dataframe\">\n",
              "  <thead>\n",
              "    <tr style=\"text-align: right;\">\n",
              "      <th></th>\n",
              "      <th>dia</th>\n",
              "      <th>thre</th>\n",
              "      <th>thresh</th>\n",
              "      <th>fp</th>\n",
              "      <th>tp</th>\n",
              "      <th>fn</th>\n",
              "      <th>precision</th>\n",
              "      <th>recall</th>\n",
              "      <th>accuracy</th>\n",
              "      <th>f1</th>\n",
              "      <th>n_true</th>\n",
              "      <th>n_pred</th>\n",
              "      <th>mean_true_score</th>\n",
              "      <th>mean_matched_score</th>\n",
              "      <th>panoptic_quality</th>\n",
              "    </tr>\n",
              "  </thead>\n",
              "  <tbody>\n",
              "    <tr>\n",
              "      <th>0</th>\n",
              "      <td>60</td>\n",
              "      <td>0.1</td>\n",
              "      <td>0.0</td>\n",
              "      <td>3.5</td>\n",
              "      <td>0.0</td>\n",
              "      <td>2.5</td>\n",
              "      <td>0.042424</td>\n",
              "      <td>0.067340</td>\n",
              "      <td>0.048265</td>\n",
              "      <td>0.052103</td>\n",
              "      <td>2.5</td>\n",
              "      <td>3.5</td>\n",
              "      <td>0.067080</td>\n",
              "      <td>0.025822</td>\n",
              "      <td>0.052395</td>\n",
              "    </tr>\n",
              "    <tr>\n",
              "      <th>1</th>\n",
              "      <td>60</td>\n",
              "      <td>0.2</td>\n",
              "      <td>0.0</td>\n",
              "      <td>3.5</td>\n",
              "      <td>0.0</td>\n",
              "      <td>2.5</td>\n",
              "      <td>0.042424</td>\n",
              "      <td>0.067340</td>\n",
              "      <td>0.048265</td>\n",
              "      <td>0.052103</td>\n",
              "      <td>2.5</td>\n",
              "      <td>3.5</td>\n",
              "      <td>0.067080</td>\n",
              "      <td>0.025822</td>\n",
              "      <td>0.052395</td>\n",
              "    </tr>\n",
              "    <tr>\n",
              "      <th>2</th>\n",
              "      <td>60</td>\n",
              "      <td>0.3</td>\n",
              "      <td>0.0</td>\n",
              "      <td>3.5</td>\n",
              "      <td>0.0</td>\n",
              "      <td>2.5</td>\n",
              "      <td>0.042424</td>\n",
              "      <td>0.067340</td>\n",
              "      <td>0.048265</td>\n",
              "      <td>0.052103</td>\n",
              "      <td>2.5</td>\n",
              "      <td>3.5</td>\n",
              "      <td>0.067080</td>\n",
              "      <td>0.025822</td>\n",
              "      <td>0.052395</td>\n",
              "    </tr>\n",
              "    <tr>\n",
              "      <th>3</th>\n",
              "      <td>75</td>\n",
              "      <td>0.1</td>\n",
              "      <td>0.0</td>\n",
              "      <td>4.5</td>\n",
              "      <td>0.5</td>\n",
              "      <td>2.0</td>\n",
              "      <td>0.047619</td>\n",
              "      <td>0.048822</td>\n",
              "      <td>0.047065</td>\n",
              "      <td>0.049919</td>\n",
              "      <td>2.5</td>\n",
              "      <td>5.0</td>\n",
              "      <td>0.043529</td>\n",
              "      <td>0.010724</td>\n",
              "      <td>0.042889</td>\n",
              "    </tr>\n",
              "    <tr>\n",
              "      <th>4</th>\n",
              "      <td>75</td>\n",
              "      <td>0.2</td>\n",
              "      <td>0.0</td>\n",
              "      <td>4.5</td>\n",
              "      <td>0.5</td>\n",
              "      <td>2.0</td>\n",
              "      <td>0.047619</td>\n",
              "      <td>0.048822</td>\n",
              "      <td>0.047065</td>\n",
              "      <td>0.049919</td>\n",
              "      <td>2.5</td>\n",
              "      <td>5.0</td>\n",
              "      <td>0.043529</td>\n",
              "      <td>0.010724</td>\n",
              "      <td>0.042889</td>\n",
              "    </tr>\n",
              "    <tr>\n",
              "      <th>5</th>\n",
              "      <td>75</td>\n",
              "      <td>0.3</td>\n",
              "      <td>0.0</td>\n",
              "      <td>4.5</td>\n",
              "      <td>0.5</td>\n",
              "      <td>2.0</td>\n",
              "      <td>0.047619</td>\n",
              "      <td>0.048822</td>\n",
              "      <td>0.047065</td>\n",
              "      <td>0.049919</td>\n",
              "      <td>2.5</td>\n",
              "      <td>5.0</td>\n",
              "      <td>0.043529</td>\n",
              "      <td>0.010724</td>\n",
              "      <td>0.042889</td>\n",
              "    </tr>\n",
              "    <tr>\n",
              "      <th>6</th>\n",
              "      <td>90</td>\n",
              "      <td>0.1</td>\n",
              "      <td>0.0</td>\n",
              "      <td>7.0</td>\n",
              "      <td>0.0</td>\n",
              "      <td>2.5</td>\n",
              "      <td>0.072211</td>\n",
              "      <td>0.067340</td>\n",
              "      <td>0.067197</td>\n",
              "      <td>0.074693</td>\n",
              "      <td>2.5</td>\n",
              "      <td>7.0</td>\n",
              "      <td>0.052481</td>\n",
              "      <td>0.005577</td>\n",
              "      <td>0.056957</td>\n",
              "    </tr>\n",
              "    <tr>\n",
              "      <th>7</th>\n",
              "      <td>90</td>\n",
              "      <td>0.2</td>\n",
              "      <td>0.0</td>\n",
              "      <td>7.0</td>\n",
              "      <td>0.0</td>\n",
              "      <td>2.5</td>\n",
              "      <td>0.072211</td>\n",
              "      <td>0.067340</td>\n",
              "      <td>0.067197</td>\n",
              "      <td>0.074693</td>\n",
              "      <td>2.5</td>\n",
              "      <td>7.0</td>\n",
              "      <td>0.052481</td>\n",
              "      <td>0.005577</td>\n",
              "      <td>0.056957</td>\n",
              "    </tr>\n",
              "    <tr>\n",
              "      <th>8</th>\n",
              "      <td>90</td>\n",
              "      <td>0.3</td>\n",
              "      <td>0.0</td>\n",
              "      <td>7.0</td>\n",
              "      <td>0.0</td>\n",
              "      <td>2.5</td>\n",
              "      <td>0.072211</td>\n",
              "      <td>0.067340</td>\n",
              "      <td>0.067197</td>\n",
              "      <td>0.074693</td>\n",
              "      <td>2.5</td>\n",
              "      <td>7.0</td>\n",
              "      <td>0.052481</td>\n",
              "      <td>0.005577</td>\n",
              "      <td>0.056957</td>\n",
              "    </tr>\n",
              "  </tbody>\n",
              "</table>\n",
              "</div>"
            ],
            "text/plain": [
              "   dia  thre  thresh   fp   tp   fn  precision    recall  accuracy        f1  \\\n",
              "0   60   0.1     0.0  3.5  0.0  2.5   0.042424  0.067340  0.048265  0.052103   \n",
              "1   60   0.2     0.0  3.5  0.0  2.5   0.042424  0.067340  0.048265  0.052103   \n",
              "2   60   0.3     0.0  3.5  0.0  2.5   0.042424  0.067340  0.048265  0.052103   \n",
              "3   75   0.1     0.0  4.5  0.5  2.0   0.047619  0.048822  0.047065  0.049919   \n",
              "4   75   0.2     0.0  4.5  0.5  2.0   0.047619  0.048822  0.047065  0.049919   \n",
              "5   75   0.3     0.0  4.5  0.5  2.0   0.047619  0.048822  0.047065  0.049919   \n",
              "6   90   0.1     0.0  7.0  0.0  2.5   0.072211  0.067340  0.067197  0.074693   \n",
              "7   90   0.2     0.0  7.0  0.0  2.5   0.072211  0.067340  0.067197  0.074693   \n",
              "8   90   0.3     0.0  7.0  0.0  2.5   0.072211  0.067340  0.067197  0.074693   \n",
              "\n",
              "   n_true  n_pred  mean_true_score  mean_matched_score  panoptic_quality  \n",
              "0     2.5     3.5         0.067080            0.025822          0.052395  \n",
              "1     2.5     3.5         0.067080            0.025822          0.052395  \n",
              "2     2.5     3.5         0.067080            0.025822          0.052395  \n",
              "3     2.5     5.0         0.043529            0.010724          0.042889  \n",
              "4     2.5     5.0         0.043529            0.010724          0.042889  \n",
              "5     2.5     5.0         0.043529            0.010724          0.042889  \n",
              "6     2.5     7.0         0.052481            0.005577          0.056957  \n",
              "7     2.5     7.0         0.052481            0.005577          0.056957  \n",
              "8     2.5     7.0         0.052481            0.005577          0.056957  "
            ]
          },
          "execution_count": 22,
          "metadata": {},
          "output_type": "execute_result"
        }
      ],
      "source": [
        "stat_mean =output_2d.groupby(['dia','thre']).mean().reset_index()\n",
        "stat_mean.head(50)\n",
        "\n",
        "stat_se =output_2d.groupby(['dia','thre']).sem().reset_index()\n",
        "stat_se.head(50)"
      ]
    },
    {
      "cell_type": "code",
      "execution_count": 27,
      "metadata": {},
      "outputs": [
        {
          "data": {
            "text/plain": [
              "Text(0.5, 0, 'Diameter (pixels)')"
            ]
          },
          "execution_count": 27,
          "metadata": {},
          "output_type": "execute_result"
        },
        {
          "data": {
            "image/png": "[encoded data removed]",
            "text/plain": [
              "<Figure size 4800x3600 with 1 Axes>"
            ]
          },
          "metadata": {
            "needs_background": "light"
          },
          "output_type": "display_data"
        }
      ],
      "source": [
        "\n",
        "\n",
        "df = pd.DataFrame()\n",
        "\n",
        "#the groups can vary \n",
        "grp1 = 'thre=0.1'\n",
        "grp2 = 'thre=0.2'\n",
        "grp3 = 'thre=0.3'\n",
        "\n",
        "\n",
        "# df['label'] = ['dia10','dia20','dia25']\n",
        "\n",
        "# df['label'] = ['dia40','dia50','dia60','dia70']\n",
        "df['label'] = ['dia'+str(dia) for dia in dia_list]\n",
        "# a = stat_mean[stat_mean['thre']=='0.075']['precision']\n",
        "# a.head()\n",
        "df[grp1+'_mean'] = stat_mean[stat_mean['thre']==0.1]['precision'].values\n",
        "df[grp2+'_mean'] = stat_mean[stat_mean['thre']==0.2]['precision'].values\n",
        "df[grp3+'_mean'] = stat_mean[stat_mean['thre']==0.3]['precision'].values\n",
        "\n",
        "\n",
        "df[grp1+'_SE'] = stat_se[stat_se['thre']==0.1]['precision'].values\n",
        "df[grp2+'_SE'] = stat_se[stat_se['thre']==0.2]['precision'].values\n",
        "df[grp3+'_SE'] = stat_se[stat_se['thre']==0.3]['precision'].values\n",
        "\n",
        "list_legend= ['threshold='+str(thre) for thre in thre_list]\n",
        "fig,ax = plt.subplots(1,1, figsize=(16,12))\n",
        "\n",
        "df.plot.bar(x='label', \n",
        "                y=[grp1+'_mean',grp2+'_mean',grp3+'_mean'],\n",
        "                yerr=df[[grp1+'_SE',grp2+'_SE',grp3+'_SE']].T.values, ax=ax,color=['b','g','r','c','m','y','k'])\n",
        "\n",
        "\n",
        "ax.legend(list_legend,loc='upper left',frameon=False,fontsize=18)\n",
        "ax.tick_params(labelsize=18)\n",
        "ax.set_ylabel('mAP',fontsize =28)\n",
        "ax.set_xlabel('Diameter (pixels)',fontsize =28)"
      ]
    },
    {
      "attachments": {},
      "cell_type": "markdown",
      "metadata": {},
      "source": [
        "# test metrics functions"
      ]
    },
    {
      "cell_type": "code",
      "execution_count": 33,
      "metadata": {},
      "outputs": [
        {
          "name": "stdout",
          "output_type": "stream",
          "text": [
            "(65, 624, 924)\n",
            "(65, 624, 924) (65, 624, 924) 0 34 10 44\n",
            "[0.77272725 0.77272725 0.77272725]\n"
          ]
        }
      ],
      "source": [
        "# a block to test metrics function\n",
        "from cellpose import models, metrics\n",
        "gt = tifffile.imread(valid_seg_files[0])\n",
        "gt =np.array(gt)\n",
        "print(gt.shape)\n",
        "gt2 = gt.copy()\n",
        "# print(gt.min(),gt.max())\n",
        "# gt2[gt>0] = gt2[gt>0] +10\n",
        "gt2 = gt2 +10\n",
        "from skimage.segmentation import relabel_sequential\n",
        "# gt2 = relabel_sequential(gt2)[0]\n",
        "# print(gt2[gt2>0]== gt[gt>0])\n",
        "print(gt.shape, gt2.shape, gt.min(),gt.max(),gt2.min(),gt2.max())\n",
        "ap2 = metrics.average_precision(gt, gt2)[0]\n",
        "# # \n",
        "print(ap2)"
      ]
    },
    {
      "cell_type": "code",
      "execution_count": 27,
      "metadata": {},
      "outputs": [
        {
          "name": "stdout",
          "output_type": "stream",
          "text": [
            "20035 20035\n"
          ]
        }
      ],
      "source": [
        "aa = gt2[gt2==44]\n",
        "bb = gt[gt==34]\n",
        "\n",
        "print(len(aa), len(bb))"
      ]
    },
    {
      "cell_type": "code",
      "execution_count": 35,
      "metadata": {},
      "outputs": [
        {
          "name": "stdout",
          "output_type": "stream",
          "text": [
            "0.9714285714285714\n"
          ]
        }
      ],
      "source": [
        "from stardist_matching import matching\n",
        "\n",
        "ap2 = matching(gt, gt2)\n",
        "print(ap2.precision)"
      ]
    },
    {
      "cell_type": "code",
      "execution_count": 7,
      "metadata": {},
      "outputs": [
        {
          "data": {
            "text/plain": [
              "37477440"
            ]
          },
          "execution_count": 7,
          "metadata": {},
          "output_type": "execute_result"
        }
      ],
      "source": [
        "65*624*924"
      ]
    },
    {
      "cell_type": "markdown",
      "metadata": {
        "id": "e2x9eU3pYAY2"
      },
      "source": [
        "Second way: computes masks in 2D slices and stitches masks in 3D based on mask overlap\n",
        "\n",
        "Note stitching (with stitch_threshold > 0) can also be used to track cells over time."
      ]
    }
  ],
  "metadata": {
    "accelerator": "GPU",
    "colab": {
      "collapsed_sections": [],
      "include_colab_link": true,
      "name": "run_cellpose_GPU.ipynb",
      "provenance": []
    },
    "kernelspec": {
      "display_name": "Python 3.9.7 ('base')",
      "language": "python",
      "name": "python3"
    },
    "language_info": {
      "codemirror_mode": {
        "name": "ipython",
        "version": 3
      },
      "file_extension": ".py",
      "mimetype": "text/x-python",
      "name": "python",
      "nbconvert_exporter": "python",
      "pygments_lexer": "ipython3",
      "version": "3.9.12"
    },
    "vscode": {
      "interpreter": {
        "hash": "5622f79b138b3d06c87c9625518e7908c22115a5b982864a5925689bdaf943b1"
      }
    }
  },
  "nbformat": 4,
  "nbformat_minor": 0
}
